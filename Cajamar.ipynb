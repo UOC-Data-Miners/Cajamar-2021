{
 "cells": [
  {
   "cell_type": "markdown",
   "metadata": {},
   "source": [
    "# Look at the big picture.\n"
   ]
  },
  {
   "cell_type": "markdown",
   "metadata": {},
   "source": [
    "## Libraries"
   ]
  },
  {
   "cell_type": "code",
   "execution_count": 1,
   "metadata": {
    "collapsed": true
   },
   "outputs": [],
   "source": [
    "import pandas as pd\n",
    "import numpy as np\n",
    "from sklearn import linear_model\n",
    "from sklearn import model_selection\n",
    "from sklearn import preprocessing\n",
    "from sklearn.metrics import mean_squared_error\n",
    "from sklearn.base import BaseEstimator, TransformerMixin\n",
    "from sklearn.preprocessing import OneHotEncoder\n",
    "from sklearn.compose import ColumnTransformer\n",
    "from sklearn.pipeline import Pipeline\n",
    "from sklearn.preprocessing import StandardScaler, Normalizer\n",
    "from sklearn.decomposition import PCA, TruncatedSVD\n",
    "from sklearn.ensemble import RandomForestRegressor\n",
    "\n",
    "\n",
    "from datetime import datetime\n",
    "from statistics import median, mean\n",
    "import seaborn as sns\n",
    "import matplotlib.pyplot as plt"
   ]
  },
  {
   "cell_type": "code",
   "execution_count": 5,
   "metadata": {
    "collapsed": false
   },
   "outputs": [
    {
     "name": "stdout",
     "output_type": "stream",
     "text": [
      "The pycodestyle_magic extension is already loaded. To reload it, use:\n",
      "  %reload_ext pycodestyle_magic\n"
     ]
    }
   ],
   "source": [
    "%load_ext pycodestyle_magic"
   ]
  },
  {
   "cell_type": "code",
   "execution_count": 6,
   "metadata": {
    "collapsed": false
   },
   "outputs": [
    {
     "ename": "ValueError",
     "evalue": "Function <bound method VarWatcher.auto_run_pycodestyle of <pycodestyle_magic.VarWatcher object at 0x0000026359596AF0>> is not registered as a post_run_cell callback",
     "output_type": "error",
     "traceback": [
      "\u001b[1;31m---------------------------------------------------------------------------\u001b[0m",
      "\u001b[1;31mValueError\u001b[0m                                Traceback (most recent call last)",
      "\u001b[1;32m<ipython-input-6-03b9c7c226da>\u001b[0m in \u001b[0;36m<module>\u001b[1;34m\u001b[0m\n\u001b[0;32m      1\u001b[0m \u001b[1;31m# Activamos las alertas de estilo\u001b[0m\u001b[1;33m\u001b[0m\u001b[1;33m\u001b[0m\u001b[1;33m\u001b[0m\u001b[0m\n\u001b[1;32m----> 2\u001b[1;33m \u001b[0mget_ipython\u001b[0m\u001b[1;33m(\u001b[0m\u001b[1;33m)\u001b[0m\u001b[1;33m.\u001b[0m\u001b[0mrun_line_magic\u001b[0m\u001b[1;33m(\u001b[0m\u001b[1;34m'pycodestyle_off'\u001b[0m\u001b[1;33m,\u001b[0m \u001b[1;34m''\u001b[0m\u001b[1;33m)\u001b[0m\u001b[1;33m\u001b[0m\u001b[1;33m\u001b[0m\u001b[0m\n\u001b[0m",
      "\u001b[1;32m~\\anaconda3\\lib\\site-packages\\IPython\\core\\interactiveshell.py\u001b[0m in \u001b[0;36mrun_line_magic\u001b[1;34m(self, magic_name, line, _stack_depth)\u001b[0m\n\u001b[0;32m   2324\u001b[0m                 \u001b[0mkwargs\u001b[0m\u001b[1;33m[\u001b[0m\u001b[1;34m'local_ns'\u001b[0m\u001b[1;33m]\u001b[0m \u001b[1;33m=\u001b[0m \u001b[0msys\u001b[0m\u001b[1;33m.\u001b[0m\u001b[0m_getframe\u001b[0m\u001b[1;33m(\u001b[0m\u001b[0mstack_depth\u001b[0m\u001b[1;33m)\u001b[0m\u001b[1;33m.\u001b[0m\u001b[0mf_locals\u001b[0m\u001b[1;33m\u001b[0m\u001b[1;33m\u001b[0m\u001b[0m\n\u001b[0;32m   2325\u001b[0m             \u001b[1;32mwith\u001b[0m \u001b[0mself\u001b[0m\u001b[1;33m.\u001b[0m\u001b[0mbuiltin_trap\u001b[0m\u001b[1;33m:\u001b[0m\u001b[1;33m\u001b[0m\u001b[1;33m\u001b[0m\u001b[0m\n\u001b[1;32m-> 2326\u001b[1;33m                 \u001b[0mresult\u001b[0m \u001b[1;33m=\u001b[0m \u001b[0mfn\u001b[0m\u001b[1;33m(\u001b[0m\u001b[1;33m*\u001b[0m\u001b[0margs\u001b[0m\u001b[1;33m,\u001b[0m \u001b[1;33m**\u001b[0m\u001b[0mkwargs\u001b[0m\u001b[1;33m)\u001b[0m\u001b[1;33m\u001b[0m\u001b[1;33m\u001b[0m\u001b[0m\n\u001b[0m\u001b[0;32m   2327\u001b[0m             \u001b[1;32mreturn\u001b[0m \u001b[0mresult\u001b[0m\u001b[1;33m\u001b[0m\u001b[1;33m\u001b[0m\u001b[0m\n\u001b[0;32m   2328\u001b[0m \u001b[1;33m\u001b[0m\u001b[0m\n",
      "\u001b[1;32m~\\anaconda3\\lib\\site-packages\\pycodestyle_magic.py\u001b[0m in \u001b[0;36mpycodestyle_off\u001b[1;34m(line)\u001b[0m\n\u001b[0;32m    136\u001b[0m \u001b[1;33m@\u001b[0m\u001b[0mregister_line_magic\u001b[0m\u001b[1;33m\u001b[0m\u001b[1;33m\u001b[0m\u001b[0m\n\u001b[0;32m    137\u001b[0m \u001b[1;32mdef\u001b[0m \u001b[0mpycodestyle_off\u001b[0m\u001b[1;33m(\u001b[0m\u001b[0mline\u001b[0m\u001b[1;33m)\u001b[0m\u001b[1;33m:\u001b[0m\u001b[1;33m\u001b[0m\u001b[1;33m\u001b[0m\u001b[0m\n\u001b[1;32m--> 138\u001b[1;33m     \u001b[0munload_ipython_extension\u001b[0m\u001b[1;33m(\u001b[0m\u001b[0mvw\u001b[0m\u001b[1;33m.\u001b[0m\u001b[0mshell\u001b[0m\u001b[1;33m,\u001b[0m \u001b[0mpck\u001b[0m\u001b[1;33m=\u001b[0m\u001b[1;34m'pycodestyle'\u001b[0m\u001b[1;33m)\u001b[0m\u001b[1;33m\u001b[0m\u001b[1;33m\u001b[0m\u001b[0m\n\u001b[0m\u001b[0;32m    139\u001b[0m \u001b[1;33m\u001b[0m\u001b[0m\n\u001b[0;32m    140\u001b[0m \u001b[1;33m@\u001b[0m\u001b[0mregister_cell_magic\u001b[0m\u001b[1;33m\u001b[0m\u001b[1;33m\u001b[0m\u001b[0m\n",
      "\u001b[1;32m~\\anaconda3\\lib\\site-packages\\pycodestyle_magic.py\u001b[0m in \u001b[0;36munload_ipython_extension\u001b[1;34m(ip, pck)\u001b[0m\n\u001b[0;32m     78\u001b[0m         \u001b[0minit_flake8\u001b[0m \u001b[1;33m=\u001b[0m \u001b[1;32mFalse\u001b[0m\u001b[1;33m\u001b[0m\u001b[1;33m\u001b[0m\u001b[0m\n\u001b[0;32m     79\u001b[0m     \u001b[1;32mif\u001b[0m \u001b[0mpck\u001b[0m \u001b[1;33m==\u001b[0m \u001b[1;34m'pycodestyle'\u001b[0m\u001b[1;33m:\u001b[0m\u001b[1;33m\u001b[0m\u001b[1;33m\u001b[0m\u001b[0m\n\u001b[1;32m---> 80\u001b[1;33m         \u001b[0mip\u001b[0m\u001b[1;33m.\u001b[0m\u001b[0mevents\u001b[0m\u001b[1;33m.\u001b[0m\u001b[0munregister\u001b[0m\u001b[1;33m(\u001b[0m\u001b[1;34m'post_run_cell'\u001b[0m\u001b[1;33m,\u001b[0m \u001b[0mvw\u001b[0m\u001b[1;33m.\u001b[0m\u001b[0mauto_run_pycodestyle\u001b[0m\u001b[1;33m)\u001b[0m\u001b[1;33m\u001b[0m\u001b[1;33m\u001b[0m\u001b[0m\n\u001b[0m\u001b[0;32m     81\u001b[0m         \u001b[1;32mglobal\u001b[0m \u001b[0minit_pycodestyle\u001b[0m\u001b[1;33m\u001b[0m\u001b[1;33m\u001b[0m\u001b[0m\n\u001b[0;32m     82\u001b[0m         \u001b[0minit_pycodestyle\u001b[0m \u001b[1;33m=\u001b[0m \u001b[1;32mFalse\u001b[0m\u001b[1;33m\u001b[0m\u001b[1;33m\u001b[0m\u001b[0m\n",
      "\u001b[1;32m~\\anaconda3\\lib\\site-packages\\IPython\\core\\events.py\u001b[0m in \u001b[0;36munregister\u001b[1;34m(self, event, function)\u001b[0m\n\u001b[0;32m     76\u001b[0m                 \u001b[1;32mpass\u001b[0m\u001b[1;33m\u001b[0m\u001b[1;33m\u001b[0m\u001b[0m\n\u001b[0;32m     77\u001b[0m \u001b[1;33m\u001b[0m\u001b[0m\n\u001b[1;32m---> 78\u001b[1;33m         \u001b[1;32mraise\u001b[0m \u001b[0mValueError\u001b[0m\u001b[1;33m(\u001b[0m\u001b[1;34m'Function {!r} is not registered as a {} callback'\u001b[0m\u001b[1;33m.\u001b[0m\u001b[0mformat\u001b[0m\u001b[1;33m(\u001b[0m\u001b[0mfunction\u001b[0m\u001b[1;33m,\u001b[0m \u001b[0mevent\u001b[0m\u001b[1;33m)\u001b[0m\u001b[1;33m)\u001b[0m\u001b[1;33m\u001b[0m\u001b[1;33m\u001b[0m\u001b[0m\n\u001b[0m\u001b[0;32m     79\u001b[0m \u001b[1;33m\u001b[0m\u001b[0m\n\u001b[0;32m     80\u001b[0m     \u001b[1;32mdef\u001b[0m \u001b[0mtrigger\u001b[0m\u001b[1;33m(\u001b[0m\u001b[0mself\u001b[0m\u001b[1;33m,\u001b[0m \u001b[0mevent\u001b[0m\u001b[1;33m,\u001b[0m \u001b[1;33m*\u001b[0m\u001b[0margs\u001b[0m\u001b[1;33m,\u001b[0m \u001b[1;33m**\u001b[0m\u001b[0mkwargs\u001b[0m\u001b[1;33m)\u001b[0m\u001b[1;33m:\u001b[0m\u001b[1;33m\u001b[0m\u001b[1;33m\u001b[0m\u001b[0m\n",
      "\u001b[1;31mValueError\u001b[0m: Function <bound method VarWatcher.auto_run_pycodestyle of <pycodestyle_magic.VarWatcher object at 0x0000026359596AF0>> is not registered as a post_run_cell callback"
     ]
    }
   ],
   "source": [
    "# Activamos las alertas de estilo\n",
    "%pycodestyle_off"
   ]
  },
  {
   "cell_type": "markdown",
   "metadata": {},
   "source": [
    "## Performance Metric"
   ]
  },
  {
   "cell_type": "code",
   "execution_count": 2,
   "metadata": {
    "collapsed": true
   },
   "outputs": [],
   "source": [
    "def performance(y_true, y_pred):\n",
    "    \"\"\"\n",
    "\n",
    "    \"\"\"\n",
    "    \n",
    "    CF = sum([1 if p >= t else 0 for t,p in zip(y_true, y_pred) ]) / len(y_pred)\n",
    "    print('CF: {}'.format(CF))\n",
    "    \n",
    "    MSE = mean_squared_error(y_true, y_pred)\n",
    "    print('MSE: {}'.format(MSE))\n",
    "    \n",
    "    RMSE = np.sqrt(MSE)\n",
    "    print('RMSE: {}'.format(RMSE))\n",
    "    \n",
    "    rRMSE = RMSE / mean(y_true)\n",
    "    print('rRMSE: {}'.format(rRMSE))\n",
    "    \n",
    "    metric = (0.7 * rRMSE) + (0.3 * (1 - CF))\n",
    "    \n",
    "    return metric\n",
    "\n"
   ]
  },
  {
   "cell_type": "markdown",
   "metadata": {},
   "source": [
    "# Get the data"
   ]
  },
  {
   "cell_type": "code",
   "execution_count": 3,
   "metadata": {
    "collapsed": true
   },
   "outputs": [],
   "source": [
    "dtypes = {\n",
    "    \"fecha\": \"str\",\n",
    "    \"id\": \"category\",\n",
    "    \"visitas\": \"Int64\",\n",
    "    \"categoria_uno\": \"category\",\n",
    "    \"categoria_dos\": \"category\",\n",
    "    \"estado\": \"category\",\n",
    "    \"precio\": \"Float64\",\n",
    "    \"dia_atipico\": \"category\",\n",
    "    \"campaña\": \"category\",\n",
    "    \"antiguedad\": \"Int64\",\n",
    "    \"unidades_vendidas\": \"Int64\"    \n",
    "}\n",
    "\n",
    "# Read the data\n",
    "data = pd.read_csv('./data/Modelar_UH2021.txt', delimiter=\"|\", dtype=dtypes, decimal=',')"
   ]
  },
  {
   "cell_type": "markdown",
   "metadata": {},
   "source": [
    "## Overview the data"
   ]
  },
  {
   "cell_type": "code",
   "execution_count": 4,
   "metadata": {
    "collapsed": false
   },
   "outputs": [
    {
     "data": {
      "text/html": [
       "<div>\n",
       "<style scoped>\n",
       "    .dataframe tbody tr th:only-of-type {\n",
       "        vertical-align: middle;\n",
       "    }\n",
       "\n",
       "    .dataframe tbody tr th {\n",
       "        vertical-align: top;\n",
       "    }\n",
       "\n",
       "    .dataframe thead th {\n",
       "        text-align: right;\n",
       "    }\n",
       "</style>\n",
       "<table border=\"1\" class=\"dataframe\">\n",
       "  <thead>\n",
       "    <tr style=\"text-align: right;\">\n",
       "      <th></th>\n",
       "      <th>fecha</th>\n",
       "      <th>id</th>\n",
       "      <th>visitas</th>\n",
       "      <th>categoria_uno</th>\n",
       "      <th>categoria_dos</th>\n",
       "      <th>estado</th>\n",
       "      <th>precio</th>\n",
       "      <th>dia_atipico</th>\n",
       "      <th>campaña</th>\n",
       "      <th>antiguedad</th>\n",
       "      <th>unidades_vendidas</th>\n",
       "    </tr>\n",
       "  </thead>\n",
       "  <tbody>\n",
       "    <tr>\n",
       "      <th>0</th>\n",
       "      <td>1/6/2015 0:00:00</td>\n",
       "      <td>21972</td>\n",
       "      <td>0</td>\n",
       "      <td>C</td>\n",
       "      <td>75</td>\n",
       "      <td>No Rotura</td>\n",
       "      <td>NaN</td>\n",
       "      <td>0</td>\n",
       "      <td>0</td>\n",
       "      <td>5241</td>\n",
       "      <td>0</td>\n",
       "    </tr>\n",
       "    <tr>\n",
       "      <th>1</th>\n",
       "      <td>1/6/2015 0:00:00</td>\n",
       "      <td>23910</td>\n",
       "      <td>5</td>\n",
       "      <td>C</td>\n",
       "      <td>170</td>\n",
       "      <td>No Rotura</td>\n",
       "      <td>6.07</td>\n",
       "      <td>0</td>\n",
       "      <td>0</td>\n",
       "      <td>5241</td>\n",
       "      <td>3</td>\n",
       "    </tr>\n",
       "    <tr>\n",
       "      <th>2</th>\n",
       "      <td>1/6/2015 0:00:00</td>\n",
       "      <td>24306</td>\n",
       "      <td>13</td>\n",
       "      <td>A</td>\n",
       "      <td>46</td>\n",
       "      <td>No Rotura</td>\n",
       "      <td>NaN</td>\n",
       "      <td>0</td>\n",
       "      <td>0</td>\n",
       "      <td>NaN</td>\n",
       "      <td>0</td>\n",
       "    </tr>\n",
       "    <tr>\n",
       "      <th>3</th>\n",
       "      <td>1/6/2015 0:00:00</td>\n",
       "      <td>24306</td>\n",
       "      <td>13</td>\n",
       "      <td>A</td>\n",
       "      <td>46</td>\n",
       "      <td>No Rotura</td>\n",
       "      <td>NaN</td>\n",
       "      <td>0</td>\n",
       "      <td>0</td>\n",
       "      <td>NaN</td>\n",
       "      <td>0</td>\n",
       "    </tr>\n",
       "    <tr>\n",
       "      <th>4</th>\n",
       "      <td>1/6/2015 0:00:00</td>\n",
       "      <td>27144</td>\n",
       "      <td>15</td>\n",
       "      <td>E</td>\n",
       "      <td>230</td>\n",
       "      <td>No Rotura</td>\n",
       "      <td>NaN</td>\n",
       "      <td>0</td>\n",
       "      <td>0</td>\n",
       "      <td>4064</td>\n",
       "      <td>0</td>\n",
       "    </tr>\n",
       "  </tbody>\n",
       "</table>\n",
       "</div>"
      ],
      "text/plain": [
       "              fecha     id  visitas categoria_uno categoria_dos     estado  \\\n",
       "0  1/6/2015 0:00:00  21972        0             C            75  No Rotura   \n",
       "1  1/6/2015 0:00:00  23910        5             C           170  No Rotura   \n",
       "2  1/6/2015 0:00:00  24306       13             A            46  No Rotura   \n",
       "3  1/6/2015 0:00:00  24306       13             A            46  No Rotura   \n",
       "4  1/6/2015 0:00:00  27144       15             E           230  No Rotura   \n",
       "\n",
       "   precio dia_atipico campaña  antiguedad  unidades_vendidas  \n",
       "0     NaN           0       0        5241                  0  \n",
       "1    6.07           0       0        5241                  3  \n",
       "2     NaN           0       0         NaN                  0  \n",
       "3     NaN           0       0         NaN                  0  \n",
       "4     NaN           0       0        4064                  0  "
      ]
     },
     "execution_count": 4,
     "metadata": {},
     "output_type": "execute_result"
    }
   ],
   "source": [
    "data.head()"
   ]
  },
  {
   "cell_type": "code",
   "execution_count": 5,
   "metadata": {
    "collapsed": false
   },
   "outputs": [
    {
     "data": {
      "text/html": [
       "<div>\n",
       "<style scoped>\n",
       "    .dataframe tbody tr th:only-of-type {\n",
       "        vertical-align: middle;\n",
       "    }\n",
       "\n",
       "    .dataframe tbody tr th {\n",
       "        vertical-align: top;\n",
       "    }\n",
       "\n",
       "    .dataframe thead th {\n",
       "        text-align: right;\n",
       "    }\n",
       "</style>\n",
       "<table border=\"1\" class=\"dataframe\">\n",
       "  <thead>\n",
       "    <tr style=\"text-align: right;\">\n",
       "      <th></th>\n",
       "      <th>visitas</th>\n",
       "      <th>precio</th>\n",
       "      <th>antiguedad</th>\n",
       "      <th>unidades_vendidas</th>\n",
       "    </tr>\n",
       "  </thead>\n",
       "  <tbody>\n",
       "    <tr>\n",
       "      <th>count</th>\n",
       "      <td>4.045022e+06</td>\n",
       "      <td>1.402111e+06</td>\n",
       "      <td>3.170857e+06</td>\n",
       "      <td>4.045022e+06</td>\n",
       "    </tr>\n",
       "    <tr>\n",
       "      <th>mean</th>\n",
       "      <td>1.721371e+02</td>\n",
       "      <td>3.424319e+01</td>\n",
       "      <td>1.011114e+03</td>\n",
       "      <td>4.693434e+00</td>\n",
       "    </tr>\n",
       "    <tr>\n",
       "      <th>std</th>\n",
       "      <td>6.889116e+02</td>\n",
       "      <td>2.330943e+01</td>\n",
       "      <td>7.162509e+02</td>\n",
       "      <td>2.237403e+01</td>\n",
       "    </tr>\n",
       "    <tr>\n",
       "      <th>min</th>\n",
       "      <td>0.000000e+00</td>\n",
       "      <td>3.570000e+00</td>\n",
       "      <td>1.260000e+02</td>\n",
       "      <td>0.000000e+00</td>\n",
       "    </tr>\n",
       "    <tr>\n",
       "      <th>25%</th>\n",
       "      <td>7.000000e+00</td>\n",
       "      <td>1.652000e+01</td>\n",
       "      <td>5.240000e+02</td>\n",
       "      <td>0.000000e+00</td>\n",
       "    </tr>\n",
       "    <tr>\n",
       "      <th>50%</th>\n",
       "      <td>3.500000e+01</td>\n",
       "      <td>2.689000e+01</td>\n",
       "      <td>7.950000e+02</td>\n",
       "      <td>0.000000e+00</td>\n",
       "    </tr>\n",
       "    <tr>\n",
       "      <th>75%</th>\n",
       "      <td>1.300000e+02</td>\n",
       "      <td>4.535000e+01</td>\n",
       "      <td>1.244000e+03</td>\n",
       "      <td>3.000000e+00</td>\n",
       "    </tr>\n",
       "    <tr>\n",
       "      <th>max</th>\n",
       "      <td>1.200450e+05</td>\n",
       "      <td>1.757800e+02</td>\n",
       "      <td>5.310000e+03</td>\n",
       "      <td>4.881000e+03</td>\n",
       "    </tr>\n",
       "  </tbody>\n",
       "</table>\n",
       "</div>"
      ],
      "text/plain": [
       "            visitas        precio    antiguedad  unidades_vendidas\n",
       "count  4.045022e+06  1.402111e+06  3.170857e+06       4.045022e+06\n",
       "mean   1.721371e+02  3.424319e+01  1.011114e+03       4.693434e+00\n",
       "std    6.889116e+02  2.330943e+01  7.162509e+02       2.237403e+01\n",
       "min    0.000000e+00  3.570000e+00  1.260000e+02       0.000000e+00\n",
       "25%    7.000000e+00  1.652000e+01  5.240000e+02       0.000000e+00\n",
       "50%    3.500000e+01  2.689000e+01  7.950000e+02       0.000000e+00\n",
       "75%    1.300000e+02  4.535000e+01  1.244000e+03       3.000000e+00\n",
       "max    1.200450e+05  1.757800e+02  5.310000e+03       4.881000e+03"
      ]
     },
     "execution_count": 5,
     "metadata": {},
     "output_type": "execute_result"
    }
   ],
   "source": [
    "data.describe()"
   ]
  },
  {
   "cell_type": "code",
   "execution_count": 6,
   "metadata": {
    "collapsed": false
   },
   "outputs": [
    {
     "name": "stdout",
     "output_type": "stream",
     "text": [
      "<class 'pandas.core.frame.DataFrame'>\n",
      "RangeIndex: 4045022 entries, 0 to 4045021\n",
      "Data columns (total 11 columns):\n",
      "fecha                object\n",
      "id                   category\n",
      "visitas              Int64\n",
      "categoria_uno        category\n",
      "categoria_dos        category\n",
      "estado               category\n",
      "precio               float64\n",
      "dia_atipico          category\n",
      "campaña              category\n",
      "antiguedad           Int64\n",
      "unidades_vendidas    Int64\n",
      "dtypes: Int64(3), category(6), float64(1), object(1)\n",
      "memory usage: 196.9+ MB\n"
     ]
    }
   ],
   "source": [
    "data.info()"
   ]
  },
  {
   "cell_type": "markdown",
   "metadata": {},
   "source": [
    "# Discover and visualize the data to gain insights"
   ]
  },
  {
   "cell_type": "markdown",
   "metadata": {},
   "source": [
    "# Prepare the data for Machine Learning algorithms"
   ]
  },
  {
   "cell_type": "markdown",
   "metadata": {},
   "source": [
    "## Preprocessing functions "
   ]
  },
  {
   "cell_type": "markdown",
   "metadata": {},
   "source": [
    "### Time format"
   ]
  },
  {
   "cell_type": "code",
   "execution_count": 7,
   "metadata": {
    "collapsed": true
   },
   "outputs": [],
   "source": [
    "class time_format(BaseEstimator, TransformerMixin):\n",
    "\n",
    "    def __init__(self, document='Modelar'):\n",
    "        self.document = document\n",
    "\n",
    "    def fit(self, X, y=None):\n",
    "        # nothing else to do\n",
    "        return self\n",
    "\n",
    "\n",
    "    def transform(self, data):\n",
    "        \"\"\"\n",
    "        Take the dataframe and trate the 'fecha' attribute depending of the document.\n",
    "        If it is the 'Modelar' document, the variable will be equal to the content\n",
    "        before the first space.\n",
    "        If it it the 'Estimar' document, the variable will be transformed to the\n",
    "        original format\n",
    "\n",
    "        Original Format: 'DD/MM/AAAA' in (text format)\n",
    "\n",
    "\n",
    "        \"\"\"\n",
    "\n",
    "        temp = ''\n",
    "\n",
    "        if self.document == 'Modelar':\n",
    "            data['fecha'] = pd.to_datetime(data['fecha'],infer_datetime_format=True).apply(lambda x : x.strftime('%d/%m/%Y'))\n",
    "        elif self.document == 'Estimar':\n",
    "            # agregar la modificación para el documento Estimar\n",
    "            data['fecha']\n",
    "        else:\n",
    "            print('Unknown document!!!')\n",
    "\n",
    "\n",
    "        return data"
   ]
  },
  {
   "cell_type": "markdown",
   "metadata": {},
   "source": [
    "### Scaler"
   ]
  },
  {
   "cell_type": "code",
   "execution_count": 8,
   "metadata": {
    "collapsed": true
   },
   "outputs": [],
   "source": [
    "class drop_duplicates(BaseEstimator, TransformerMixin):\n",
    "\n",
    "    def __init__(self):\n",
    "        pass\n",
    "\n",
    "    def fit(self, X, y=None):\n",
    "        # nothing else to do\n",
    "        return self\n",
    "\n",
    "\n",
    "    def transform(self, data):\n",
    "        \"\"\"\n",
    "        Take the dataframe and return the dataframe without duplicates.\n",
    "\n",
    "        \"\"\"\n",
    "\n",
    "        return data.drop_duplicates()"
   ]
  },
  {
   "cell_type": "markdown",
   "metadata": {},
   "source": [
    "### Data Preprocessing Pipeline"
   ]
  },
  {
   "cell_type": "code",
   "execution_count": 9,
   "metadata": {
    "collapsed": false
   },
   "outputs": [
    {
     "name": "stderr",
     "output_type": "stream",
     "text": [
      "C:\\Program Files\\Anaconda3\\lib\\site-packages\\ipykernel\\__main__.py:27: SettingWithCopyWarning: \n",
      "A value is trying to be set on a copy of a slice from a DataFrame.\n",
      "Try using .loc[row_indexer,col_indexer] = value instead\n",
      "\n",
      "See the caveats in the documentation: http://pandas.pydata.org/pandas-docs/stable/indexing.html#indexing-view-versus-copy\n"
     ]
    }
   ],
   "source": [
    "data_prep_pipeline = Pipeline([\n",
    "         ('drop_dup' , drop_duplicates()),\n",
    "         ('time_format', time_format(document='Modelar')),\n",
    "         \n",
    "])\n",
    "\n",
    "\n",
    "data_prepared = data_prep_pipeline.fit_transform(data)"
   ]
  },
  {
   "cell_type": "markdown",
   "metadata": {},
   "source": [
    "## Missing Values"
   ]
  },
  {
   "cell_type": "code",
   "execution_count": 10,
   "metadata": {
    "collapsed": false
   },
   "outputs": [
    {
     "data": {
      "text/plain": [
       "fecha                      0\n",
       "id                         0\n",
       "visitas                    0\n",
       "categoria_uno              0\n",
       "categoria_dos           5844\n",
       "estado                     0\n",
       "precio               2642911\n",
       "dia_atipico                0\n",
       "campaña                    0\n",
       "antiguedad            874165\n",
       "unidades_vendidas          0\n",
       "dtype: int64"
      ]
     },
     "execution_count": 10,
     "metadata": {},
     "output_type": "execute_result"
    }
   ],
   "source": [
    "## Get the missing values per attribute\n",
    "data.isnull().sum()"
   ]
  },
  {
   "cell_type": "code",
   "execution_count": 11,
   "metadata": {
    "collapsed": true
   },
   "outputs": [],
   "source": [
    "data_final = data_prepared.copy()\n",
    "data_final['fecha'] = data_final['fecha'].apply( lambda i : datetime.strptime(i , \"%d/%m/%Y\"))  \n",
    "data_final.sort_values(by=['fecha'], inplace=True, ascending=True)\n",
    "data_final = data_final.reset_index(drop=True)"
   ]
  },
  {
   "cell_type": "code",
   "execution_count": 12,
   "metadata": {
    "collapsed": true
   },
   "outputs": [],
   "source": [
    "# \"Precio\" imputer\n",
    "last_values = dict([ (i, 0) for i in data_final.id.unique() ])\n",
    "\n",
    "df_index = 0\n",
    "\n",
    "for index, value in zip(data_final.id, data_final.precio):\n",
    "    if pd.notna(float(value)):\n",
    "        last_values[index] = value\n",
    "    else:\n",
    "        data_final.at[df_index, 'precio'] = last_values[index]\n",
    "   \n",
    "    df_index += 1"
   ]
  },
  {
   "cell_type": "markdown",
   "metadata": {},
   "source": [
    "Imputar la variable antiguedad por la media y la categoría dos por 0(de Momento)."
   ]
  },
  {
   "cell_type": "code",
   "execution_count": 13,
   "metadata": {
    "collapsed": true
   },
   "outputs": [],
   "source": [
    "# Get the median value\n",
    "median = data_final['antiguedad'].median()\n",
    "\n",
    "# Fill the NA Values with the median\n",
    "data_final['antiguedad'].fillna(median, inplace=True)\n",
    "#data_final['categoria_dos'].fillna(, inplace=True) # De momento dejadlo así, ya estoy buscando la manera de hacerlo con clustering\n"
   ]
  },
  {
   "cell_type": "code",
   "execution_count": 14,
   "metadata": {
    "collapsed": false
   },
   "outputs": [
    {
     "name": "stdout",
     "output_type": "stream",
     "text": [
      "2040037 4393\n"
     ]
    }
   ],
   "source": [
    "# \"Antiguedad\" imputer\n",
    "#last_values = dict([ (i, 0) for i in data_final.id.unique() ])\n",
    "list_values = []\n",
    "df_index = 0\n",
    "null_count = 0\n",
    "\n",
    "for index, value in zip(data_final.id, data_final.categoria_dos):\n",
    "    if  pd.notna(float(value)):\n",
    "        # last_values[index] = value\n",
    "        list_values.append(value)\n",
    "    else:\n",
    "        null_count += 1\n",
    "        list_values.append(list_values[len(list_values)-1])\n",
    "   \n",
    "    df_index += 1\n",
    "    \n",
    "print(len(list_values), null_count)\n",
    "data_final['categoria_dos'] = np.array(list_values)\n",
    "data_final['categoria_dos'] = data_final['categoria_dos'].astype('category')"
   ]
  },
  {
   "cell_type": "code",
   "execution_count": 15,
   "metadata": {
    "collapsed": true
   },
   "outputs": [],
   "source": [
    "data_final['dia_atipico'] = data_final['dia_atipico'].replace(['0', '1', '-1'], [\"Venta_Normal\", \"Venta_alta\", \"Venta_Baja\"])"
   ]
  },
  {
   "cell_type": "code",
   "execution_count": 16,
   "metadata": {
    "collapsed": false
   },
   "outputs": [
    {
     "data": {
      "text/plain": [
       "0          Venta_Normal\n",
       "1          Venta_Normal\n",
       "2          Venta_Normal\n",
       "3          Venta_Normal\n",
       "4          Venta_Normal\n",
       "5          Venta_Normal\n",
       "6          Venta_Normal\n",
       "7          Venta_Normal\n",
       "8          Venta_Normal\n",
       "9          Venta_Normal\n",
       "10         Venta_Normal\n",
       "11         Venta_Normal\n",
       "12         Venta_Normal\n",
       "13         Venta_Normal\n",
       "14         Venta_Normal\n",
       "15         Venta_Normal\n",
       "16         Venta_Normal\n",
       "17         Venta_Normal\n",
       "18         Venta_Normal\n",
       "19         Venta_Normal\n",
       "20         Venta_Normal\n",
       "21         Venta_Normal\n",
       "22         Venta_Normal\n",
       "23         Venta_Normal\n",
       "24         Venta_Normal\n",
       "25         Venta_Normal\n",
       "26         Venta_Normal\n",
       "27         Venta_Normal\n",
       "28         Venta_Normal\n",
       "29         Venta_Normal\n",
       "               ...     \n",
       "2040007    Venta_Normal\n",
       "2040008    Venta_Normal\n",
       "2040009    Venta_Normal\n",
       "2040010    Venta_Normal\n",
       "2040011    Venta_Normal\n",
       "2040012    Venta_Normal\n",
       "2040013    Venta_Normal\n",
       "2040014    Venta_Normal\n",
       "2040015    Venta_Normal\n",
       "2040016    Venta_Normal\n",
       "2040017    Venta_Normal\n",
       "2040018    Venta_Normal\n",
       "2040019    Venta_Normal\n",
       "2040020    Venta_Normal\n",
       "2040021    Venta_Normal\n",
       "2040022    Venta_Normal\n",
       "2040023    Venta_Normal\n",
       "2040024    Venta_Normal\n",
       "2040025    Venta_Normal\n",
       "2040026    Venta_Normal\n",
       "2040027    Venta_Normal\n",
       "2040028    Venta_Normal\n",
       "2040029    Venta_Normal\n",
       "2040030    Venta_Normal\n",
       "2040031    Venta_Normal\n",
       "2040032    Venta_Normal\n",
       "2040033    Venta_Normal\n",
       "2040034    Venta_Normal\n",
       "2040035    Venta_Normal\n",
       "2040036    Venta_Normal\n",
       "Name: dia_atipico, Length: 2040037, dtype: object"
      ]
     },
     "execution_count": 16,
     "metadata": {},
     "output_type": "execute_result"
    }
   ],
   "source": [
    "data_final.dia_atipico"
   ]
  },
  {
   "cell_type": "markdown",
   "metadata": {},
   "source": [
    "### One Hot Encoding"
   ]
  },
  {
   "cell_type": "code",
   "execution_count": 17,
   "metadata": {
    "collapsed": false
   },
   "outputs": [
    {
     "data": {
      "text/html": [
       "<div>\n",
       "<style scoped>\n",
       "    .dataframe tbody tr th:only-of-type {\n",
       "        vertical-align: middle;\n",
       "    }\n",
       "\n",
       "    .dataframe tbody tr th {\n",
       "        vertical-align: top;\n",
       "    }\n",
       "\n",
       "    .dataframe thead th {\n",
       "        text-align: right;\n",
       "    }\n",
       "</style>\n",
       "<table border=\"1\" class=\"dataframe\">\n",
       "  <thead>\n",
       "    <tr style=\"text-align: right;\">\n",
       "      <th></th>\n",
       "      <th>fecha</th>\n",
       "      <th>id</th>\n",
       "      <th>visitas</th>\n",
       "      <th>estado</th>\n",
       "      <th>precio</th>\n",
       "      <th>dia_atipico</th>\n",
       "      <th>campaña</th>\n",
       "      <th>antiguedad</th>\n",
       "      <th>unidades_vendidas</th>\n",
       "      <th>categoria</th>\n",
       "    </tr>\n",
       "  </thead>\n",
       "  <tbody>\n",
       "    <tr>\n",
       "      <th>0</th>\n",
       "      <td>2015-01-06</td>\n",
       "      <td>21972</td>\n",
       "      <td>0</td>\n",
       "      <td>No Rotura</td>\n",
       "      <td>0.00</td>\n",
       "      <td>Venta_Normal</td>\n",
       "      <td>0</td>\n",
       "      <td>5241</td>\n",
       "      <td>0</td>\n",
       "      <td>C75</td>\n",
       "    </tr>\n",
       "    <tr>\n",
       "      <th>1</th>\n",
       "      <td>2015-01-06</td>\n",
       "      <td>327312</td>\n",
       "      <td>12</td>\n",
       "      <td>Rotura</td>\n",
       "      <td>0.00</td>\n",
       "      <td>Venta_Normal</td>\n",
       "      <td>0</td>\n",
       "      <td>580</td>\n",
       "      <td>0</td>\n",
       "      <td>A236</td>\n",
       "    </tr>\n",
       "    <tr>\n",
       "      <th>2</th>\n",
       "      <td>2015-01-06</td>\n",
       "      <td>327330</td>\n",
       "      <td>7</td>\n",
       "      <td>Rotura</td>\n",
       "      <td>0.00</td>\n",
       "      <td>Venta_Normal</td>\n",
       "      <td>0</td>\n",
       "      <td>580</td>\n",
       "      <td>0</td>\n",
       "      <td>A236</td>\n",
       "    </tr>\n",
       "    <tr>\n",
       "      <th>3</th>\n",
       "      <td>2015-01-06</td>\n",
       "      <td>327348</td>\n",
       "      <td>16</td>\n",
       "      <td>Rotura</td>\n",
       "      <td>0.00</td>\n",
       "      <td>Venta_Normal</td>\n",
       "      <td>0</td>\n",
       "      <td>580</td>\n",
       "      <td>0</td>\n",
       "      <td>A236</td>\n",
       "    </tr>\n",
       "    <tr>\n",
       "      <th>4</th>\n",
       "      <td>2015-01-06</td>\n",
       "      <td>327380</td>\n",
       "      <td>2</td>\n",
       "      <td>Rotura</td>\n",
       "      <td>0.00</td>\n",
       "      <td>Venta_Normal</td>\n",
       "      <td>0</td>\n",
       "      <td>580</td>\n",
       "      <td>0</td>\n",
       "      <td>L131</td>\n",
       "    </tr>\n",
       "    <tr>\n",
       "      <th>5</th>\n",
       "      <td>2015-01-06</td>\n",
       "      <td>327386</td>\n",
       "      <td>3</td>\n",
       "      <td>Rotura</td>\n",
       "      <td>0.00</td>\n",
       "      <td>Venta_Normal</td>\n",
       "      <td>0</td>\n",
       "      <td>580</td>\n",
       "      <td>0</td>\n",
       "      <td>L131</td>\n",
       "    </tr>\n",
       "    <tr>\n",
       "      <th>6</th>\n",
       "      <td>2015-01-06</td>\n",
       "      <td>327468</td>\n",
       "      <td>27</td>\n",
       "      <td>Rotura</td>\n",
       "      <td>0.00</td>\n",
       "      <td>Venta_Normal</td>\n",
       "      <td>0</td>\n",
       "      <td>580</td>\n",
       "      <td>0</td>\n",
       "      <td>A127</td>\n",
       "    </tr>\n",
       "    <tr>\n",
       "      <th>7</th>\n",
       "      <td>2015-01-06</td>\n",
       "      <td>327474</td>\n",
       "      <td>20</td>\n",
       "      <td>Rotura</td>\n",
       "      <td>0.00</td>\n",
       "      <td>Venta_Normal</td>\n",
       "      <td>0</td>\n",
       "      <td>580</td>\n",
       "      <td>0</td>\n",
       "      <td>A127</td>\n",
       "    </tr>\n",
       "    <tr>\n",
       "      <th>8</th>\n",
       "      <td>2015-01-06</td>\n",
       "      <td>327480</td>\n",
       "      <td>19</td>\n",
       "      <td>Rotura</td>\n",
       "      <td>0.00</td>\n",
       "      <td>Venta_Normal</td>\n",
       "      <td>0</td>\n",
       "      <td>580</td>\n",
       "      <td>0</td>\n",
       "      <td>A304</td>\n",
       "    </tr>\n",
       "    <tr>\n",
       "      <th>9</th>\n",
       "      <td>2015-01-06</td>\n",
       "      <td>327518</td>\n",
       "      <td>11</td>\n",
       "      <td>Rotura</td>\n",
       "      <td>0.00</td>\n",
       "      <td>Venta_Normal</td>\n",
       "      <td>0</td>\n",
       "      <td>831</td>\n",
       "      <td>0</td>\n",
       "      <td>F336</td>\n",
       "    </tr>\n",
       "    <tr>\n",
       "      <th>10</th>\n",
       "      <td>2015-01-06</td>\n",
       "      <td>327544</td>\n",
       "      <td>32</td>\n",
       "      <td>Rotura</td>\n",
       "      <td>0.00</td>\n",
       "      <td>Venta_Normal</td>\n",
       "      <td>0</td>\n",
       "      <td>831</td>\n",
       "      <td>0</td>\n",
       "      <td>F336</td>\n",
       "    </tr>\n",
       "    <tr>\n",
       "      <th>11</th>\n",
       "      <td>2015-01-06</td>\n",
       "      <td>327594</td>\n",
       "      <td>6</td>\n",
       "      <td>Rotura</td>\n",
       "      <td>0.00</td>\n",
       "      <td>Venta_Normal</td>\n",
       "      <td>0</td>\n",
       "      <td>579</td>\n",
       "      <td>0</td>\n",
       "      <td>I71</td>\n",
       "    </tr>\n",
       "    <tr>\n",
       "      <th>12</th>\n",
       "      <td>2015-01-06</td>\n",
       "      <td>327656</td>\n",
       "      <td>14</td>\n",
       "      <td>Rotura</td>\n",
       "      <td>0.00</td>\n",
       "      <td>Venta_Normal</td>\n",
       "      <td>0</td>\n",
       "      <td>831</td>\n",
       "      <td>0</td>\n",
       "      <td>A82</td>\n",
       "    </tr>\n",
       "    <tr>\n",
       "      <th>13</th>\n",
       "      <td>2015-01-06</td>\n",
       "      <td>327736</td>\n",
       "      <td>11</td>\n",
       "      <td>Rotura</td>\n",
       "      <td>0.00</td>\n",
       "      <td>Venta_Normal</td>\n",
       "      <td>0</td>\n",
       "      <td>579</td>\n",
       "      <td>0</td>\n",
       "      <td>E115</td>\n",
       "    </tr>\n",
       "    <tr>\n",
       "      <th>14</th>\n",
       "      <td>2015-01-06</td>\n",
       "      <td>327262</td>\n",
       "      <td>7</td>\n",
       "      <td>Rotura</td>\n",
       "      <td>0.00</td>\n",
       "      <td>Venta_Normal</td>\n",
       "      <td>0</td>\n",
       "      <td>580</td>\n",
       "      <td>0</td>\n",
       "      <td>A236</td>\n",
       "    </tr>\n",
       "    <tr>\n",
       "      <th>15</th>\n",
       "      <td>2015-01-06</td>\n",
       "      <td>327832</td>\n",
       "      <td>14</td>\n",
       "      <td>Rotura</td>\n",
       "      <td>0.00</td>\n",
       "      <td>Venta_Normal</td>\n",
       "      <td>0</td>\n",
       "      <td>831</td>\n",
       "      <td>0</td>\n",
       "      <td>H307</td>\n",
       "    </tr>\n",
       "    <tr>\n",
       "      <th>16</th>\n",
       "      <td>2015-01-06</td>\n",
       "      <td>327880</td>\n",
       "      <td>7</td>\n",
       "      <td>No Rotura</td>\n",
       "      <td>0.00</td>\n",
       "      <td>Venta_Normal</td>\n",
       "      <td>0</td>\n",
       "      <td>831</td>\n",
       "      <td>0</td>\n",
       "      <td>K7</td>\n",
       "    </tr>\n",
       "    <tr>\n",
       "      <th>17</th>\n",
       "      <td>2015-01-06</td>\n",
       "      <td>327928</td>\n",
       "      <td>10</td>\n",
       "      <td>No Rotura</td>\n",
       "      <td>0.00</td>\n",
       "      <td>Venta_Normal</td>\n",
       "      <td>0</td>\n",
       "      <td>578</td>\n",
       "      <td>0</td>\n",
       "      <td>H307</td>\n",
       "    </tr>\n",
       "    <tr>\n",
       "      <th>18</th>\n",
       "      <td>2015-01-06</td>\n",
       "      <td>327934</td>\n",
       "      <td>14</td>\n",
       "      <td>No Rotura</td>\n",
       "      <td>0.00</td>\n",
       "      <td>Venta_Normal</td>\n",
       "      <td>0</td>\n",
       "      <td>578</td>\n",
       "      <td>0</td>\n",
       "      <td>H307</td>\n",
       "    </tr>\n",
       "    <tr>\n",
       "      <th>19</th>\n",
       "      <td>2015-01-06</td>\n",
       "      <td>327950</td>\n",
       "      <td>5</td>\n",
       "      <td>No Rotura</td>\n",
       "      <td>0.00</td>\n",
       "      <td>Venta_Normal</td>\n",
       "      <td>0</td>\n",
       "      <td>578</td>\n",
       "      <td>0</td>\n",
       "      <td>H307</td>\n",
       "    </tr>\n",
       "    <tr>\n",
       "      <th>20</th>\n",
       "      <td>2015-01-06</td>\n",
       "      <td>327984</td>\n",
       "      <td>15</td>\n",
       "      <td>No Rotura</td>\n",
       "      <td>0.00</td>\n",
       "      <td>Venta_Normal</td>\n",
       "      <td>0</td>\n",
       "      <td>831</td>\n",
       "      <td>0</td>\n",
       "      <td>I101</td>\n",
       "    </tr>\n",
       "    <tr>\n",
       "      <th>21</th>\n",
       "      <td>2015-01-06</td>\n",
       "      <td>147830</td>\n",
       "      <td>0</td>\n",
       "      <td>No Rotura</td>\n",
       "      <td>0.00</td>\n",
       "      <td>Venta_Normal</td>\n",
       "      <td>0</td>\n",
       "      <td>1890</td>\n",
       "      <td>0</td>\n",
       "      <td>E247</td>\n",
       "    </tr>\n",
       "    <tr>\n",
       "      <th>22</th>\n",
       "      <td>2015-01-06</td>\n",
       "      <td>158668</td>\n",
       "      <td>0</td>\n",
       "      <td>No Rotura</td>\n",
       "      <td>0.00</td>\n",
       "      <td>Venta_Normal</td>\n",
       "      <td>0</td>\n",
       "      <td>1776</td>\n",
       "      <td>0</td>\n",
       "      <td>H223</td>\n",
       "    </tr>\n",
       "    <tr>\n",
       "      <th>23</th>\n",
       "      <td>2015-01-06</td>\n",
       "      <td>159348</td>\n",
       "      <td>0</td>\n",
       "      <td>No Rotura</td>\n",
       "      <td>0.00</td>\n",
       "      <td>Venta_Normal</td>\n",
       "      <td>0</td>\n",
       "      <td>1767</td>\n",
       "      <td>0</td>\n",
       "      <td>A82</td>\n",
       "    </tr>\n",
       "    <tr>\n",
       "      <th>24</th>\n",
       "      <td>2015-01-06</td>\n",
       "      <td>211204</td>\n",
       "      <td>0</td>\n",
       "      <td>No Rotura</td>\n",
       "      <td>0.00</td>\n",
       "      <td>Venta_Normal</td>\n",
       "      <td>0</td>\n",
       "      <td>1176</td>\n",
       "      <td>0</td>\n",
       "      <td>K340</td>\n",
       "    </tr>\n",
       "    <tr>\n",
       "      <th>25</th>\n",
       "      <td>2015-01-06</td>\n",
       "      <td>212294</td>\n",
       "      <td>0</td>\n",
       "      <td>No Rotura</td>\n",
       "      <td>0.00</td>\n",
       "      <td>Venta_Normal</td>\n",
       "      <td>0</td>\n",
       "      <td>1162</td>\n",
       "      <td>0</td>\n",
       "      <td>E125</td>\n",
       "    </tr>\n",
       "    <tr>\n",
       "      <th>26</th>\n",
       "      <td>2015-01-06</td>\n",
       "      <td>217538</td>\n",
       "      <td>0</td>\n",
       "      <td>No Rotura</td>\n",
       "      <td>0.00</td>\n",
       "      <td>Venta_Normal</td>\n",
       "      <td>0</td>\n",
       "      <td>1133</td>\n",
       "      <td>0</td>\n",
       "      <td>E202</td>\n",
       "    </tr>\n",
       "    <tr>\n",
       "      <th>27</th>\n",
       "      <td>2015-01-06</td>\n",
       "      <td>246168</td>\n",
       "      <td>0</td>\n",
       "      <td>Rotura</td>\n",
       "      <td>0.00</td>\n",
       "      <td>Venta_Normal</td>\n",
       "      <td>0</td>\n",
       "      <td>1008</td>\n",
       "      <td>0</td>\n",
       "      <td>A263</td>\n",
       "    </tr>\n",
       "    <tr>\n",
       "      <th>28</th>\n",
       "      <td>2015-01-06</td>\n",
       "      <td>263836</td>\n",
       "      <td>0</td>\n",
       "      <td>No Rotura</td>\n",
       "      <td>0.00</td>\n",
       "      <td>Venta_Normal</td>\n",
       "      <td>0</td>\n",
       "      <td>923</td>\n",
       "      <td>0</td>\n",
       "      <td>A197</td>\n",
       "    </tr>\n",
       "    <tr>\n",
       "      <th>29</th>\n",
       "      <td>2015-01-06</td>\n",
       "      <td>327844</td>\n",
       "      <td>11</td>\n",
       "      <td>Rotura</td>\n",
       "      <td>0.00</td>\n",
       "      <td>Venta_Normal</td>\n",
       "      <td>0</td>\n",
       "      <td>579</td>\n",
       "      <td>0</td>\n",
       "      <td>H307</td>\n",
       "    </tr>\n",
       "    <tr>\n",
       "      <th>...</th>\n",
       "      <td>...</td>\n",
       "      <td>...</td>\n",
       "      <td>...</td>\n",
       "      <td>...</td>\n",
       "      <td>...</td>\n",
       "      <td>...</td>\n",
       "      <td>...</td>\n",
       "      <td>...</td>\n",
       "      <td>...</td>\n",
       "      <td>...</td>\n",
       "    </tr>\n",
       "    <tr>\n",
       "      <th>2040007</th>\n",
       "      <td>2016-12-09</td>\n",
       "      <td>212294</td>\n",
       "      <td>45</td>\n",
       "      <td>No Rotura</td>\n",
       "      <td>37.26</td>\n",
       "      <td>Venta_Normal</td>\n",
       "      <td>0</td>\n",
       "      <td>1162</td>\n",
       "      <td>0</td>\n",
       "      <td>E125</td>\n",
       "    </tr>\n",
       "    <tr>\n",
       "      <th>2040008</th>\n",
       "      <td>2016-12-09</td>\n",
       "      <td>211204</td>\n",
       "      <td>5</td>\n",
       "      <td>Rotura</td>\n",
       "      <td>41.33</td>\n",
       "      <td>Venta_Normal</td>\n",
       "      <td>0</td>\n",
       "      <td>1176</td>\n",
       "      <td>0</td>\n",
       "      <td>K340</td>\n",
       "    </tr>\n",
       "    <tr>\n",
       "      <th>2040009</th>\n",
       "      <td>2016-12-09</td>\n",
       "      <td>159348</td>\n",
       "      <td>865</td>\n",
       "      <td>No Rotura</td>\n",
       "      <td>40.15</td>\n",
       "      <td>Venta_Normal</td>\n",
       "      <td>0</td>\n",
       "      <td>1767</td>\n",
       "      <td>39</td>\n",
       "      <td>A82</td>\n",
       "    </tr>\n",
       "    <tr>\n",
       "      <th>2040010</th>\n",
       "      <td>2016-12-09</td>\n",
       "      <td>158668</td>\n",
       "      <td>130</td>\n",
       "      <td>No Rotura</td>\n",
       "      <td>24.67</td>\n",
       "      <td>Venta_Normal</td>\n",
       "      <td>0</td>\n",
       "      <td>1776</td>\n",
       "      <td>12</td>\n",
       "      <td>H223</td>\n",
       "    </tr>\n",
       "    <tr>\n",
       "      <th>2040011</th>\n",
       "      <td>2016-12-09</td>\n",
       "      <td>147830</td>\n",
       "      <td>60</td>\n",
       "      <td>No Rotura</td>\n",
       "      <td>31.72</td>\n",
       "      <td>Venta_Normal</td>\n",
       "      <td>0</td>\n",
       "      <td>1890</td>\n",
       "      <td>0</td>\n",
       "      <td>E247</td>\n",
       "    </tr>\n",
       "    <tr>\n",
       "      <th>2040012</th>\n",
       "      <td>2016-12-09</td>\n",
       "      <td>327984</td>\n",
       "      <td>0</td>\n",
       "      <td>Rotura</td>\n",
       "      <td>11.94</td>\n",
       "      <td>Venta_Normal</td>\n",
       "      <td>0</td>\n",
       "      <td>831</td>\n",
       "      <td>0</td>\n",
       "      <td>I101</td>\n",
       "    </tr>\n",
       "    <tr>\n",
       "      <th>2040013</th>\n",
       "      <td>2016-12-09</td>\n",
       "      <td>327950</td>\n",
       "      <td>160</td>\n",
       "      <td>No Rotura</td>\n",
       "      <td>81.72</td>\n",
       "      <td>Venta_Normal</td>\n",
       "      <td>0</td>\n",
       "      <td>578</td>\n",
       "      <td>3</td>\n",
       "      <td>H307</td>\n",
       "    </tr>\n",
       "    <tr>\n",
       "      <th>2040014</th>\n",
       "      <td>2016-12-09</td>\n",
       "      <td>327934</td>\n",
       "      <td>110</td>\n",
       "      <td>No Rotura</td>\n",
       "      <td>42.44</td>\n",
       "      <td>Venta_Normal</td>\n",
       "      <td>0</td>\n",
       "      <td>578</td>\n",
       "      <td>0</td>\n",
       "      <td>H307</td>\n",
       "    </tr>\n",
       "    <tr>\n",
       "      <th>2040015</th>\n",
       "      <td>2016-12-09</td>\n",
       "      <td>327928</td>\n",
       "      <td>205</td>\n",
       "      <td>No Rotura</td>\n",
       "      <td>46.08</td>\n",
       "      <td>Venta_Normal</td>\n",
       "      <td>0</td>\n",
       "      <td>578</td>\n",
       "      <td>0</td>\n",
       "      <td>H307</td>\n",
       "    </tr>\n",
       "    <tr>\n",
       "      <th>2040016</th>\n",
       "      <td>2016-12-09</td>\n",
       "      <td>327880</td>\n",
       "      <td>0</td>\n",
       "      <td>Rotura</td>\n",
       "      <td>7.41</td>\n",
       "      <td>Venta_Normal</td>\n",
       "      <td>0</td>\n",
       "      <td>831</td>\n",
       "      <td>0</td>\n",
       "      <td>K7</td>\n",
       "    </tr>\n",
       "    <tr>\n",
       "      <th>2040017</th>\n",
       "      <td>2016-12-09</td>\n",
       "      <td>327844</td>\n",
       "      <td>35</td>\n",
       "      <td>Rotura</td>\n",
       "      <td>90.00</td>\n",
       "      <td>Venta_Normal</td>\n",
       "      <td>0</td>\n",
       "      <td>579</td>\n",
       "      <td>0</td>\n",
       "      <td>H307</td>\n",
       "    </tr>\n",
       "    <tr>\n",
       "      <th>2040018</th>\n",
       "      <td>2016-12-09</td>\n",
       "      <td>327832</td>\n",
       "      <td>15</td>\n",
       "      <td>Rotura</td>\n",
       "      <td>148.05</td>\n",
       "      <td>Venta_Normal</td>\n",
       "      <td>0</td>\n",
       "      <td>831</td>\n",
       "      <td>0</td>\n",
       "      <td>H307</td>\n",
       "    </tr>\n",
       "    <tr>\n",
       "      <th>2040019</th>\n",
       "      <td>2016-12-09</td>\n",
       "      <td>327736</td>\n",
       "      <td>40</td>\n",
       "      <td>Rotura</td>\n",
       "      <td>22.23</td>\n",
       "      <td>Venta_Normal</td>\n",
       "      <td>0</td>\n",
       "      <td>579</td>\n",
       "      <td>0</td>\n",
       "      <td>E115</td>\n",
       "    </tr>\n",
       "    <tr>\n",
       "      <th>2040020</th>\n",
       "      <td>2016-12-09</td>\n",
       "      <td>327656</td>\n",
       "      <td>0</td>\n",
       "      <td>Rotura</td>\n",
       "      <td>30.63</td>\n",
       "      <td>Venta_Normal</td>\n",
       "      <td>0</td>\n",
       "      <td>831</td>\n",
       "      <td>0</td>\n",
       "      <td>A82</td>\n",
       "    </tr>\n",
       "    <tr>\n",
       "      <th>2040021</th>\n",
       "      <td>2016-12-09</td>\n",
       "      <td>327594</td>\n",
       "      <td>50</td>\n",
       "      <td>No Rotura</td>\n",
       "      <td>19.15</td>\n",
       "      <td>Venta_Normal</td>\n",
       "      <td>0</td>\n",
       "      <td>579</td>\n",
       "      <td>0</td>\n",
       "      <td>I71</td>\n",
       "    </tr>\n",
       "    <tr>\n",
       "      <th>2040022</th>\n",
       "      <td>2016-12-09</td>\n",
       "      <td>327544</td>\n",
       "      <td>10</td>\n",
       "      <td>Rotura</td>\n",
       "      <td>79.23</td>\n",
       "      <td>Venta_Normal</td>\n",
       "      <td>0</td>\n",
       "      <td>831</td>\n",
       "      <td>0</td>\n",
       "      <td>F336</td>\n",
       "    </tr>\n",
       "    <tr>\n",
       "      <th>2040023</th>\n",
       "      <td>2016-12-09</td>\n",
       "      <td>327518</td>\n",
       "      <td>25</td>\n",
       "      <td>Rotura</td>\n",
       "      <td>93.77</td>\n",
       "      <td>Venta_Normal</td>\n",
       "      <td>0</td>\n",
       "      <td>831</td>\n",
       "      <td>0</td>\n",
       "      <td>F336</td>\n",
       "    </tr>\n",
       "    <tr>\n",
       "      <th>2040024</th>\n",
       "      <td>2016-12-09</td>\n",
       "      <td>327480</td>\n",
       "      <td>80</td>\n",
       "      <td>No Rotura</td>\n",
       "      <td>8.65</td>\n",
       "      <td>Venta_Normal</td>\n",
       "      <td>0</td>\n",
       "      <td>580</td>\n",
       "      <td>0</td>\n",
       "      <td>A304</td>\n",
       "    </tr>\n",
       "    <tr>\n",
       "      <th>2040025</th>\n",
       "      <td>2016-12-09</td>\n",
       "      <td>327474</td>\n",
       "      <td>75</td>\n",
       "      <td>No Rotura</td>\n",
       "      <td>19.18</td>\n",
       "      <td>Venta_Normal</td>\n",
       "      <td>0</td>\n",
       "      <td>580</td>\n",
       "      <td>6</td>\n",
       "      <td>A127</td>\n",
       "    </tr>\n",
       "    <tr>\n",
       "      <th>2040026</th>\n",
       "      <td>2016-12-09</td>\n",
       "      <td>327468</td>\n",
       "      <td>950</td>\n",
       "      <td>No Rotura</td>\n",
       "      <td>15.39</td>\n",
       "      <td>Venta_Normal</td>\n",
       "      <td>0</td>\n",
       "      <td>580</td>\n",
       "      <td>45</td>\n",
       "      <td>A127</td>\n",
       "    </tr>\n",
       "    <tr>\n",
       "      <th>2040027</th>\n",
       "      <td>2016-12-09</td>\n",
       "      <td>327386</td>\n",
       "      <td>55</td>\n",
       "      <td>No Rotura</td>\n",
       "      <td>10.17</td>\n",
       "      <td>Venta_Normal</td>\n",
       "      <td>0</td>\n",
       "      <td>580</td>\n",
       "      <td>0</td>\n",
       "      <td>L131</td>\n",
       "    </tr>\n",
       "    <tr>\n",
       "      <th>2040028</th>\n",
       "      <td>2016-12-09</td>\n",
       "      <td>327380</td>\n",
       "      <td>0</td>\n",
       "      <td>No Rotura</td>\n",
       "      <td>6.12</td>\n",
       "      <td>Venta_Normal</td>\n",
       "      <td>0</td>\n",
       "      <td>580</td>\n",
       "      <td>0</td>\n",
       "      <td>L131</td>\n",
       "    </tr>\n",
       "    <tr>\n",
       "      <th>2040029</th>\n",
       "      <td>2016-12-09</td>\n",
       "      <td>327348</td>\n",
       "      <td>10</td>\n",
       "      <td>Rotura</td>\n",
       "      <td>34.11</td>\n",
       "      <td>Venta_Normal</td>\n",
       "      <td>0</td>\n",
       "      <td>580</td>\n",
       "      <td>0</td>\n",
       "      <td>A236</td>\n",
       "    </tr>\n",
       "    <tr>\n",
       "      <th>2040030</th>\n",
       "      <td>2016-12-09</td>\n",
       "      <td>327330</td>\n",
       "      <td>20</td>\n",
       "      <td>No Rotura</td>\n",
       "      <td>34.11</td>\n",
       "      <td>Venta_Normal</td>\n",
       "      <td>0</td>\n",
       "      <td>580</td>\n",
       "      <td>0</td>\n",
       "      <td>A236</td>\n",
       "    </tr>\n",
       "    <tr>\n",
       "      <th>2040031</th>\n",
       "      <td>2016-12-09</td>\n",
       "      <td>327312</td>\n",
       "      <td>75</td>\n",
       "      <td>No Rotura</td>\n",
       "      <td>34.11</td>\n",
       "      <td>Venta_Normal</td>\n",
       "      <td>0</td>\n",
       "      <td>580</td>\n",
       "      <td>0</td>\n",
       "      <td>A236</td>\n",
       "    </tr>\n",
       "    <tr>\n",
       "      <th>2040032</th>\n",
       "      <td>2016-12-09</td>\n",
       "      <td>327262</td>\n",
       "      <td>40</td>\n",
       "      <td>Rotura</td>\n",
       "      <td>40.15</td>\n",
       "      <td>Venta_Normal</td>\n",
       "      <td>0</td>\n",
       "      <td>580</td>\n",
       "      <td>0</td>\n",
       "      <td>A236</td>\n",
       "    </tr>\n",
       "    <tr>\n",
       "      <th>2040033</th>\n",
       "      <td>2016-12-09</td>\n",
       "      <td>327036</td>\n",
       "      <td>45</td>\n",
       "      <td>Rotura</td>\n",
       "      <td>14.19</td>\n",
       "      <td>Venta_Normal</td>\n",
       "      <td>0</td>\n",
       "      <td>831</td>\n",
       "      <td>0</td>\n",
       "      <td>A127</td>\n",
       "    </tr>\n",
       "    <tr>\n",
       "      <th>2040034</th>\n",
       "      <td>2016-12-09</td>\n",
       "      <td>326868</td>\n",
       "      <td>10</td>\n",
       "      <td>No Rotura</td>\n",
       "      <td>8.25</td>\n",
       "      <td>Venta_Normal</td>\n",
       "      <td>0</td>\n",
       "      <td>581</td>\n",
       "      <td>3</td>\n",
       "      <td>C72</td>\n",
       "    </tr>\n",
       "    <tr>\n",
       "      <th>2040035</th>\n",
       "      <td>2016-12-09</td>\n",
       "      <td>326838</td>\n",
       "      <td>0</td>\n",
       "      <td>Rotura</td>\n",
       "      <td>10.76</td>\n",
       "      <td>Venta_Normal</td>\n",
       "      <td>0</td>\n",
       "      <td>831</td>\n",
       "      <td>0</td>\n",
       "      <td>K7</td>\n",
       "    </tr>\n",
       "    <tr>\n",
       "      <th>2040036</th>\n",
       "      <td>2016-12-09</td>\n",
       "      <td>458660</td>\n",
       "      <td>440</td>\n",
       "      <td>Rotura</td>\n",
       "      <td>68.49</td>\n",
       "      <td>Venta_Normal</td>\n",
       "      <td>0</td>\n",
       "      <td>126</td>\n",
       "      <td>0</td>\n",
       "      <td>K340</td>\n",
       "    </tr>\n",
       "  </tbody>\n",
       "</table>\n",
       "<p>2040037 rows × 10 columns</p>\n",
       "</div>"
      ],
      "text/plain": [
       "             fecha      id  visitas     estado  precio   dia_atipico campaña  \\\n",
       "0       2015-01-06   21972        0  No Rotura    0.00  Venta_Normal       0   \n",
       "1       2015-01-06  327312       12     Rotura    0.00  Venta_Normal       0   \n",
       "2       2015-01-06  327330        7     Rotura    0.00  Venta_Normal       0   \n",
       "3       2015-01-06  327348       16     Rotura    0.00  Venta_Normal       0   \n",
       "4       2015-01-06  327380        2     Rotura    0.00  Venta_Normal       0   \n",
       "5       2015-01-06  327386        3     Rotura    0.00  Venta_Normal       0   \n",
       "6       2015-01-06  327468       27     Rotura    0.00  Venta_Normal       0   \n",
       "7       2015-01-06  327474       20     Rotura    0.00  Venta_Normal       0   \n",
       "8       2015-01-06  327480       19     Rotura    0.00  Venta_Normal       0   \n",
       "9       2015-01-06  327518       11     Rotura    0.00  Venta_Normal       0   \n",
       "10      2015-01-06  327544       32     Rotura    0.00  Venta_Normal       0   \n",
       "11      2015-01-06  327594        6     Rotura    0.00  Venta_Normal       0   \n",
       "12      2015-01-06  327656       14     Rotura    0.00  Venta_Normal       0   \n",
       "13      2015-01-06  327736       11     Rotura    0.00  Venta_Normal       0   \n",
       "14      2015-01-06  327262        7     Rotura    0.00  Venta_Normal       0   \n",
       "15      2015-01-06  327832       14     Rotura    0.00  Venta_Normal       0   \n",
       "16      2015-01-06  327880        7  No Rotura    0.00  Venta_Normal       0   \n",
       "17      2015-01-06  327928       10  No Rotura    0.00  Venta_Normal       0   \n",
       "18      2015-01-06  327934       14  No Rotura    0.00  Venta_Normal       0   \n",
       "19      2015-01-06  327950        5  No Rotura    0.00  Venta_Normal       0   \n",
       "20      2015-01-06  327984       15  No Rotura    0.00  Venta_Normal       0   \n",
       "21      2015-01-06  147830        0  No Rotura    0.00  Venta_Normal       0   \n",
       "22      2015-01-06  158668        0  No Rotura    0.00  Venta_Normal       0   \n",
       "23      2015-01-06  159348        0  No Rotura    0.00  Venta_Normal       0   \n",
       "24      2015-01-06  211204        0  No Rotura    0.00  Venta_Normal       0   \n",
       "25      2015-01-06  212294        0  No Rotura    0.00  Venta_Normal       0   \n",
       "26      2015-01-06  217538        0  No Rotura    0.00  Venta_Normal       0   \n",
       "27      2015-01-06  246168        0     Rotura    0.00  Venta_Normal       0   \n",
       "28      2015-01-06  263836        0  No Rotura    0.00  Venta_Normal       0   \n",
       "29      2015-01-06  327844       11     Rotura    0.00  Venta_Normal       0   \n",
       "...            ...     ...      ...        ...     ...           ...     ...   \n",
       "2040007 2016-12-09  212294       45  No Rotura   37.26  Venta_Normal       0   \n",
       "2040008 2016-12-09  211204        5     Rotura   41.33  Venta_Normal       0   \n",
       "2040009 2016-12-09  159348      865  No Rotura   40.15  Venta_Normal       0   \n",
       "2040010 2016-12-09  158668      130  No Rotura   24.67  Venta_Normal       0   \n",
       "2040011 2016-12-09  147830       60  No Rotura   31.72  Venta_Normal       0   \n",
       "2040012 2016-12-09  327984        0     Rotura   11.94  Venta_Normal       0   \n",
       "2040013 2016-12-09  327950      160  No Rotura   81.72  Venta_Normal       0   \n",
       "2040014 2016-12-09  327934      110  No Rotura   42.44  Venta_Normal       0   \n",
       "2040015 2016-12-09  327928      205  No Rotura   46.08  Venta_Normal       0   \n",
       "2040016 2016-12-09  327880        0     Rotura    7.41  Venta_Normal       0   \n",
       "2040017 2016-12-09  327844       35     Rotura   90.00  Venta_Normal       0   \n",
       "2040018 2016-12-09  327832       15     Rotura  148.05  Venta_Normal       0   \n",
       "2040019 2016-12-09  327736       40     Rotura   22.23  Venta_Normal       0   \n",
       "2040020 2016-12-09  327656        0     Rotura   30.63  Venta_Normal       0   \n",
       "2040021 2016-12-09  327594       50  No Rotura   19.15  Venta_Normal       0   \n",
       "2040022 2016-12-09  327544       10     Rotura   79.23  Venta_Normal       0   \n",
       "2040023 2016-12-09  327518       25     Rotura   93.77  Venta_Normal       0   \n",
       "2040024 2016-12-09  327480       80  No Rotura    8.65  Venta_Normal       0   \n",
       "2040025 2016-12-09  327474       75  No Rotura   19.18  Venta_Normal       0   \n",
       "2040026 2016-12-09  327468      950  No Rotura   15.39  Venta_Normal       0   \n",
       "2040027 2016-12-09  327386       55  No Rotura   10.17  Venta_Normal       0   \n",
       "2040028 2016-12-09  327380        0  No Rotura    6.12  Venta_Normal       0   \n",
       "2040029 2016-12-09  327348       10     Rotura   34.11  Venta_Normal       0   \n",
       "2040030 2016-12-09  327330       20  No Rotura   34.11  Venta_Normal       0   \n",
       "2040031 2016-12-09  327312       75  No Rotura   34.11  Venta_Normal       0   \n",
       "2040032 2016-12-09  327262       40     Rotura   40.15  Venta_Normal       0   \n",
       "2040033 2016-12-09  327036       45     Rotura   14.19  Venta_Normal       0   \n",
       "2040034 2016-12-09  326868       10  No Rotura    8.25  Venta_Normal       0   \n",
       "2040035 2016-12-09  326838        0     Rotura   10.76  Venta_Normal       0   \n",
       "2040036 2016-12-09  458660      440     Rotura   68.49  Venta_Normal       0   \n",
       "\n",
       "         antiguedad  unidades_vendidas categoria  \n",
       "0              5241                  0       C75  \n",
       "1               580                  0      A236  \n",
       "2               580                  0      A236  \n",
       "3               580                  0      A236  \n",
       "4               580                  0      L131  \n",
       "5               580                  0      L131  \n",
       "6               580                  0      A127  \n",
       "7               580                  0      A127  \n",
       "8               580                  0      A304  \n",
       "9               831                  0      F336  \n",
       "10              831                  0      F336  \n",
       "11              579                  0       I71  \n",
       "12              831                  0       A82  \n",
       "13              579                  0      E115  \n",
       "14              580                  0      A236  \n",
       "15              831                  0      H307  \n",
       "16              831                  0        K7  \n",
       "17              578                  0      H307  \n",
       "18              578                  0      H307  \n",
       "19              578                  0      H307  \n",
       "20              831                  0      I101  \n",
       "21             1890                  0      E247  \n",
       "22             1776                  0      H223  \n",
       "23             1767                  0       A82  \n",
       "24             1176                  0      K340  \n",
       "25             1162                  0      E125  \n",
       "26             1133                  0      E202  \n",
       "27             1008                  0      A263  \n",
       "28              923                  0      A197  \n",
       "29              579                  0      H307  \n",
       "...             ...                ...       ...  \n",
       "2040007        1162                  0      E125  \n",
       "2040008        1176                  0      K340  \n",
       "2040009        1767                 39       A82  \n",
       "2040010        1776                 12      H223  \n",
       "2040011        1890                  0      E247  \n",
       "2040012         831                  0      I101  \n",
       "2040013         578                  3      H307  \n",
       "2040014         578                  0      H307  \n",
       "2040015         578                  0      H307  \n",
       "2040016         831                  0        K7  \n",
       "2040017         579                  0      H307  \n",
       "2040018         831                  0      H307  \n",
       "2040019         579                  0      E115  \n",
       "2040020         831                  0       A82  \n",
       "2040021         579                  0       I71  \n",
       "2040022         831                  0      F336  \n",
       "2040023         831                  0      F336  \n",
       "2040024         580                  0      A304  \n",
       "2040025         580                  6      A127  \n",
       "2040026         580                 45      A127  \n",
       "2040027         580                  0      L131  \n",
       "2040028         580                  0      L131  \n",
       "2040029         580                  0      A236  \n",
       "2040030         580                  0      A236  \n",
       "2040031         580                  0      A236  \n",
       "2040032         580                  0      A236  \n",
       "2040033         831                  0      A127  \n",
       "2040034         581                  3       C72  \n",
       "2040035         831                  0        K7  \n",
       "2040036         126                  0      K340  \n",
       "\n",
       "[2040037 rows x 10 columns]"
      ]
     },
     "execution_count": 17,
     "metadata": {},
     "output_type": "execute_result"
    }
   ],
   "source": [
    "# concatenamos las dos columnas \n",
    "data_final['categoria'] = data_final[\"categoria_uno\"].str.cat(data_final.categoria_dos, sep =\"\") \n",
    "data_final['categoria']\n",
    "data_final.drop(columns=['categoria_uno', 'categoria_dos'], inplace = True)\n",
    "data_final"
   ]
  },
  {
   "cell_type": "code",
   "execution_count": 18,
   "metadata": {
    "collapsed": false
   },
   "outputs": [],
   "source": [
    "data_final['dia'] = data_final['fecha'].map(lambda x: x.day)\n",
    "data_final['mes'] = data_final['fecha'].map(lambda x: x.month)\n",
    "data_final['año'] = data_final['fecha'].map(lambda x: x.year)\n",
    "data_final['finde'] = data_final['fecha'].map(lambda x: x.weekday())"
   ]
  },
  {
   "cell_type": "code",
   "execution_count": 39,
   "metadata": {
    "collapsed": true
   },
   "outputs": [],
   "source": [
    "from sklearn.compose import ColumnTransformer\n",
    "\n",
    "y = data_final[\"unidades_vendidas\"].copy()\n",
    "\n",
    "df = data_final.loc[:, ~data_final.columns.isin(['fecha', 'id', 'unidades_vendidas'])]\n",
    "num_attribs = ['dia','mes','año','finde','visitas', 'precio', 'antiguedad']\n",
    "cat_attribs = ['estado','dia_atipico', 'campaña','categoria']\n",
    "\n",
    "full_pipeline = ColumnTransformer([\n",
    "    (\"num\", Normalizer(), num_attribs),\n",
    "    (\"cat\", OneHotEncoder(), cat_attribs),])\n",
    "\n",
    "df_prepared = full_pipeline.fit_transform(df)"
   ]
  },
  {
   "cell_type": "markdown",
   "metadata": {},
   "source": [
    "data_model = data_final.join(enc_df)\n",
    "\n",
    "data_model = data_model.drop(columns=['estado','dia_atipico','categoria_uno','categoria_dos'])\n",
    "\n",
    "data_model"
   ]
  },
  {
   "cell_type": "code",
   "execution_count": 40,
   "metadata": {
    "collapsed": false
   },
   "outputs": [
    {
     "data": {
      "text/plain": [
       "array([[1.06856432e-03, 1.78094054e-04, 3.58859519e-01, ...,\n",
       "        0.00000000e+00, 0.00000000e+00, 0.00000000e+00],\n",
       "       [2.86142620e-03, 4.76904366e-04, 9.60962298e-01, ...,\n",
       "        0.00000000e+00, 0.00000000e+00, 0.00000000e+00],\n",
       "       [2.86145711e-03, 4.76909519e-04, 9.60972680e-01, ...,\n",
       "        0.00000000e+00, 0.00000000e+00, 0.00000000e+00],\n",
       "       ...,\n",
       "       [4.28949671e-03, 5.71932895e-03, 9.60847263e-01, ...,\n",
       "        0.00000000e+00, 0.00000000e+00, 0.00000000e+00],\n",
       "       [4.12723609e-03, 5.50298146e-03, 9.24500885e-01, ...,\n",
       "        0.00000000e+00, 0.00000000e+00, 0.00000000e+00],\n",
       "       [4.35099339e-03, 5.80132453e-03, 9.74622520e-01, ...,\n",
       "        0.00000000e+00, 0.00000000e+00, 0.00000000e+00]])"
      ]
     },
     "execution_count": 40,
     "metadata": {},
     "output_type": "execute_result"
    }
   ],
   "source": [
    "X = df_prepared.toarray()\n",
    "X"
   ]
  },
  {
   "cell_type": "code",
   "execution_count": 41,
   "metadata": {
    "collapsed": true
   },
   "outputs": [],
   "source": [
    "pca = PCA(n_components=50, random_state=42)\n",
    "X_pca = pca.fit_transform(X) "
   ]
  },
  {
   "cell_type": "code",
   "execution_count": 42,
   "metadata": {
    "collapsed": false
   },
   "outputs": [
    {
     "data": {
      "text/plain": [
       "0.8850618646375382"
      ]
     },
     "execution_count": 42,
     "metadata": {},
     "output_type": "execute_result"
    }
   ],
   "source": [
    "sum(pca.explained_variance_ratio_)"
   ]
  },
  {
   "cell_type": "code",
   "execution_count": 43,
   "metadata": {
    "collapsed": true
   },
   "outputs": [],
   "source": [
    "from sklearn.model_selection import train_test_split\n",
    "X_train, X_test, y_train, y_test = train_test_split(X_pca, y, test_size = 0.3, random_state = 25)"
   ]
  },
  {
   "cell_type": "code",
   "execution_count": 44,
   "metadata": {
    "collapsed": false
   },
   "outputs": [],
   "source": [
    "import xgboost as xgb\n",
    "\n",
    "xg_reg = xgb.XGBRegressor(objective ='reg:squarederror', colsample_bytree = 0.3, learning_rate = 0.1,\n",
    "                max_depth = 5, alpha = 10, n_estimators = 20)\n",
    "\n"
   ]
  },
  {
   "cell_type": "code",
   "execution_count": 45,
   "metadata": {
    "collapsed": false
   },
   "outputs": [
    {
     "data": {
      "text/plain": [
       "XGBRegressor(alpha=10, base_score=0.5, booster='gbtree', colsample_bylevel=1,\n",
       "             colsample_bynode=1, colsample_bytree=0.3, gamma=0, gpu_id=-1,\n",
       "             importance_type='gain', interaction_constraints='',\n",
       "             learning_rate=0.1, max_delta_step=0, max_depth=5,\n",
       "             min_child_weight=1, missing=nan, monotone_constraints='()',\n",
       "             n_estimators=20, n_jobs=0, num_parallel_tree=1,\n",
       "             objective='reg:squarederror', random_state=0, reg_alpha=10,\n",
       "             reg_lambda=1, scale_pos_weight=1, subsample=1, tree_method='exact',\n",
       "             validate_parameters=1, verbosity=None)"
      ]
     },
     "execution_count": 45,
     "metadata": {},
     "output_type": "execute_result"
    }
   ],
   "source": [
    "xg_reg.fit(X_train,y_train)"
   ]
  },
  {
   "cell_type": "code",
   "execution_count": 46,
   "metadata": {
    "collapsed": true
   },
   "outputs": [],
   "source": [
    "preds = xg_reg.predict(X_test)"
   ]
  },
  {
   "cell_type": "code",
   "execution_count": 48,
   "metadata": {
    "collapsed": false
   },
   "outputs": [
    {
     "name": "stdout",
     "output_type": "stream",
     "text": [
      "CF: 0.7686140141042986\n",
      "MSE: 259.5162909353722\n",
      "RMSE: 16.10950933254555\n",
      "rRMSE: 5.36983644418185\n"
     ]
    },
    {
     "data": {
      "text/plain": [
       "3.8283013066960048"
      ]
     },
     "execution_count": 48,
     "metadata": {},
     "output_type": "execute_result"
    }
   ],
   "source": [
    "performance(y_test, preds)"
   ]
  },
  {
   "cell_type": "code",
   "execution_count": 35,
   "metadata": {
    "collapsed": false
   },
   "outputs": [
    {
     "data": {
      "text/plain": [
       "array([ 2.0797001e+01,  1.3238306e+00,  1.9826710e+00, ...,\n",
       "        2.1914554e+00,  1.7607181e+00, -9.4900131e-03], dtype=float32)"
      ]
     },
     "execution_count": 35,
     "metadata": {},
     "output_type": "execute_result"
    }
   ],
   "source": [
    "preds"
   ]
  },
  {
   "cell_type": "code",
   "execution_count": 49,
   "metadata": {
    "collapsed": true
   },
   "outputs": [],
   "source": [
    "# Instantiate model with 50 decision trees\n",
    "rf = RandomForestRegressor(n_estimators = 25, random_state = 42, n_jobs = -1)"
   ]
  },
  {
   "cell_type": "code",
   "execution_count": null,
   "metadata": {
    "collapsed": true
   },
   "outputs": [],
   "source": [
    "from sklearn.model_selection import cross_val_score\n",
    "\n",
    "scores = cross_val_score(rf, X_train, y_train,\n",
    "                         scoring=\"neg_mean_squared_error\", n_jobs=5,cv=5)\n",
    "tree_rmse_scores = np.sqrt(-scores)\n",
    "tree_rmse_scores"
   ]
  },
  {
   "cell_type": "code",
   "execution_count": 50,
   "metadata": {
    "collapsed": false
   },
   "outputs": [
    {
     "data": {
      "text/plain": [
       "RandomForestRegressor(bootstrap=True, ccp_alpha=0.0, criterion='mse',\n",
       "                      max_depth=None, max_features='auto', max_leaf_nodes=None,\n",
       "                      max_samples=None, min_impurity_decrease=0.0,\n",
       "                      min_impurity_split=None, min_samples_leaf=1,\n",
       "                      min_samples_split=2, min_weight_fraction_leaf=0.0,\n",
       "                      n_estimators=25, n_jobs=-1, oob_score=False,\n",
       "                      random_state=42, verbose=0, warm_start=False)"
      ]
     },
     "execution_count": 50,
     "metadata": {},
     "output_type": "execute_result"
    }
   ],
   "source": [
    "rf.fit(X_train,y_train)"
   ]
  },
  {
   "cell_type": "code",
   "execution_count": 51,
   "metadata": {
    "collapsed": true
   },
   "outputs": [],
   "source": [
    "# Use the forest's predict method on the test data\n",
    "predictions = rf.predict(X_test)"
   ]
  },
  {
   "cell_type": "code",
   "execution_count": 52,
   "metadata": {
    "collapsed": false
   },
   "outputs": [
    {
     "name": "stdout",
     "output_type": "stream",
     "text": [
      "CF: 0.7939566544446841\n",
      "MSE: 229.9427279028702\n",
      "RMSE: 15.1638625654175\n",
      "rRMSE: 5.0546208551391665\n"
     ]
    },
    {
     "data": {
      "text/plain": [
       "3.600047602264011"
      ]
     },
     "execution_count": 52,
     "metadata": {},
     "output_type": "execute_result"
    }
   ],
   "source": [
    "# Performance RandomForest \n",
    "performance(y_test, predictions)"
   ]
  },
  {
   "cell_type": "code",
   "execution_count": null,
   "metadata": {
    "collapsed": true
   },
   "outputs": [],
   "source": [
    "from sklearn.svm import SVR\n",
    "\n",
    "svr_rbf = SVR(kernel='rbf', C=1e3, gamma=0.1)\n",
    "\n",
    "svr_rbf.fit(X_train, y_train)"
   ]
  },
  {
   "cell_type": "markdown",
   "metadata": {},
   "source": [
    "## Outliers"
   ]
  },
  {
   "cell_type": "markdown",
   "metadata": {},
   "source": [
    "No debe haber outliers\n"
   ]
  },
  {
   "cell_type": "markdown",
   "metadata": {
    "slideshow": {
     "slide_type": "-"
    }
   },
   "source": [
    "## Preparation of Test Dataset"
   ]
  },
  {
   "cell_type": "code",
   "execution_count": null,
   "metadata": {
    "collapsed": true
   },
   "outputs": [],
   "source": [
    "dtypes = {\n",
    "    \"fecha\": \"str\",\n",
    "    \"id\": \"category\",\n",
    "    \"visitas\": \"Int64\",\n",
    "    \"categoria_uno\": \"category\",\n",
    "    \"categoria_dos\": \"category\",\n",
    "    \"estado\": \"category\",\n",
    "    \"precio\": \"Float64\",\n",
    "    \"dia_atipico\": \"category\",\n",
    "    \"campaña\": \"category\",\n",
    "    \"antiguedad\": \"object\" \n",
    "}\n",
    "\n",
    "# Read the data\n",
    "# data_test = pd.read_csv('./data/Estimar_UH2021.txt', delimiter=\"|\", dtype=dtypes, decimal=',')"
   ]
  },
  {
   "cell_type": "markdown",
   "metadata": {},
   "source": [
    "### Data Preprocessing Pipeline"
   ]
  },
  {
   "cell_type": "code",
   "execution_count": null,
   "metadata": {
    "collapsed": true
   },
   "outputs": [],
   "source": [
    "\"\"\"data_prep_pipeline = Pipeline([\n",
    "         ('drop_dup', drop_dup()),\n",
    "         ('time_format', time_format(document='Modelar'))\n",
    "])\n",
    "\n",
    "\n",
    "data_test_prepared = data_prep_pipeline.fit_transform(data_test)\"\"\""
   ]
  },
  {
   "cell_type": "markdown",
   "metadata": {},
   "source": [
    "# Select a model and train it"
   ]
  },
  {
   "cell_type": "markdown",
   "metadata": {},
   "source": [
    "# \"Estimar\" Dataset"
   ]
  },
  {
   "cell_type": "markdown",
   "metadata": {},
   "source": [
    "## Read Data"
   ]
  },
  {
   "cell_type": "code",
   "execution_count": 34,
   "metadata": {
    "collapsed": true
   },
   "outputs": [],
   "source": [
    "est_dtypes = {\n",
    "    \"fecha\": \"str\",\n",
    "    \"id\": \"category\",\n",
    "    \"visitas\": \"Int64\",\n",
    "    \"categoria_uno\": \"category\",\n",
    "    \"categoria_dos\": \"category\",\n",
    "    \"estado\": \"category\",\n",
    "    \"precio\": \"Float64\",\n",
    "    \"dia_atipico\": \"category\",\n",
    "    \"campaña\": \"category\",\n",
    "    \"antiguedad\": \"str\"\n",
    "}\n",
    "\n",
    "# Read the data\n",
    "data_estimar = pd.read_csv('./data/Estimar_UH2021.txt', delimiter=\"|\", dtype=dtypes, decimal=',', na_values='-')"
   ]
  },
  {
   "cell_type": "code",
   "execution_count": 35,
   "metadata": {
    "collapsed": false
   },
   "outputs": [
    {
     "data": {
      "text/html": [
       "<div>\n",
       "<style scoped>\n",
       "    .dataframe tbody tr th:only-of-type {\n",
       "        vertical-align: middle;\n",
       "    }\n",
       "\n",
       "    .dataframe tbody tr th {\n",
       "        vertical-align: top;\n",
       "    }\n",
       "\n",
       "    .dataframe thead th {\n",
       "        text-align: right;\n",
       "    }\n",
       "</style>\n",
       "<table border=\"1\" class=\"dataframe\">\n",
       "  <thead>\n",
       "    <tr style=\"text-align: right;\">\n",
       "      <th></th>\n",
       "      <th>fecha</th>\n",
       "      <th>id</th>\n",
       "      <th>visitas</th>\n",
       "      <th>categoria_uno</th>\n",
       "      <th>categoria_dos</th>\n",
       "      <th>estado</th>\n",
       "      <th>precio</th>\n",
       "      <th>dia_atipico</th>\n",
       "      <th>campaña</th>\n",
       "      <th>antiguedad</th>\n",
       "    </tr>\n",
       "  </thead>\n",
       "  <tbody>\n",
       "    <tr>\n",
       "      <th>0</th>\n",
       "      <td>2016-10-01</td>\n",
       "      <td>21972</td>\n",
       "      <td>5</td>\n",
       "      <td>C</td>\n",
       "      <td>75</td>\n",
       "      <td>No Rotura</td>\n",
       "      <td>5.84</td>\n",
       "      <td>0</td>\n",
       "      <td>0</td>\n",
       "      <td>5150</td>\n",
       "    </tr>\n",
       "    <tr>\n",
       "      <th>1</th>\n",
       "      <td>2016-10-02</td>\n",
       "      <td>21972</td>\n",
       "      <td>15</td>\n",
       "      <td>C</td>\n",
       "      <td>75</td>\n",
       "      <td>No Rotura</td>\n",
       "      <td>5.84</td>\n",
       "      <td>0</td>\n",
       "      <td>0</td>\n",
       "      <td>5150</td>\n",
       "    </tr>\n",
       "    <tr>\n",
       "      <th>2</th>\n",
       "      <td>2016-10-03</td>\n",
       "      <td>21972</td>\n",
       "      <td>5</td>\n",
       "      <td>C</td>\n",
       "      <td>75</td>\n",
       "      <td>No Rotura</td>\n",
       "      <td>5.84</td>\n",
       "      <td>0</td>\n",
       "      <td>0</td>\n",
       "      <td>5150</td>\n",
       "    </tr>\n",
       "    <tr>\n",
       "      <th>3</th>\n",
       "      <td>2016-10-04</td>\n",
       "      <td>21972</td>\n",
       "      <td>5</td>\n",
       "      <td>C</td>\n",
       "      <td>75</td>\n",
       "      <td>No Rotura</td>\n",
       "      <td>5.84</td>\n",
       "      <td>0</td>\n",
       "      <td>0</td>\n",
       "      <td>5150</td>\n",
       "    </tr>\n",
       "    <tr>\n",
       "      <th>4</th>\n",
       "      <td>2016-10-05</td>\n",
       "      <td>21972</td>\n",
       "      <td>0</td>\n",
       "      <td>C</td>\n",
       "      <td>75</td>\n",
       "      <td>No Rotura</td>\n",
       "      <td>5.84</td>\n",
       "      <td>0</td>\n",
       "      <td>0</td>\n",
       "      <td>5150</td>\n",
       "    </tr>\n",
       "  </tbody>\n",
       "</table>\n",
       "</div>"
      ],
      "text/plain": [
       "        fecha     id  visitas categoria_uno categoria_dos     estado  precio  \\\n",
       "0  2016-10-01  21972        5             C            75  No Rotura    5.84   \n",
       "1  2016-10-02  21972       15             C            75  No Rotura    5.84   \n",
       "2  2016-10-03  21972        5             C            75  No Rotura    5.84   \n",
       "3  2016-10-04  21972        5             C            75  No Rotura    5.84   \n",
       "4  2016-10-05  21972        0             C            75  No Rotura    5.84   \n",
       "\n",
       "  dia_atipico campaña  antiguedad  \n",
       "0           0       0        5150  \n",
       "1           0       0        5150  \n",
       "2           0       0        5150  \n",
       "3           0       0        5150  \n",
       "4           0       0        5150  "
      ]
     },
     "execution_count": 35,
     "metadata": {},
     "output_type": "execute_result"
    }
   ],
   "source": [
    "data_estimar.head()"
   ]
  },
  {
   "cell_type": "code",
   "execution_count": 36,
   "metadata": {
    "collapsed": false
   },
   "outputs": [
    {
     "data": {
      "text/plain": [
       "(218263, 10)"
      ]
     },
     "execution_count": 36,
     "metadata": {},
     "output_type": "execute_result"
    }
   ],
   "source": [
    "data_estimar.shape"
   ]
  },
  {
   "cell_type": "code",
   "execution_count": 40,
   "metadata": {
    "collapsed": false
   },
   "outputs": [
    {
     "data": {
      "text/plain": [
       "fecha              0\n",
       "id                 0\n",
       "visitas            0\n",
       "categoria_uno      0\n",
       "categoria_dos    438\n",
       "estado             0\n",
       "precio             0\n",
       "dia_atipico        0\n",
       "campaña            0\n",
       "antiguedad         0\n",
       "dtype: int64"
      ]
     },
     "execution_count": 40,
     "metadata": {},
     "output_type": "execute_result"
    }
   ],
   "source": [
    "data_estimar.isnull().sum()"
   ]
  },
  {
   "cell_type": "code",
   "execution_count": 39,
   "metadata": {
    "collapsed": true
   },
   "outputs": [],
   "source": [
    "# Get the median value\n",
    "median = data_estimar['antiguedad'].median()\n",
    "data_estimar['antiguedad'].fillna(median, inplace=True)"
   ]
  },
  {
   "cell_type": "code",
   "execution_count": 41,
   "metadata": {
    "collapsed": false
   },
   "outputs": [
    {
     "data": {
      "text/plain": [
       "fecha              0\n",
       "id                 0\n",
       "visitas            0\n",
       "categoria_uno      0\n",
       "categoria_dos    438\n",
       "estado             0\n",
       "precio             0\n",
       "dia_atipico        0\n",
       "campaña            0\n",
       "antiguedad         0\n",
       "dtype: int64"
      ]
     },
     "execution_count": 41,
     "metadata": {},
     "output_type": "execute_result"
    }
   ],
   "source": [
    "data_estimar.isnull().sum()"
   ]
  },
  {
   "cell_type": "code",
   "execution_count": 42,
   "metadata": {
    "collapsed": false
   },
   "outputs": [
    {
     "name": "stdout",
     "output_type": "stream",
     "text": [
      "218263 438\n"
     ]
    }
   ],
   "source": [
    "# \"Antiguedad\" imputer\n",
    "#last_values = dict([ (i, 0) for i in data_final.id.unique() ])\n",
    "list_values = []\n",
    "df_index = 0\n",
    "null_count = 0\n",
    "\n",
    "for index, value in zip(data_estimar.id, data_estimar.categoria_dos):\n",
    "    if  pd.notna(float(value)):\n",
    "        # last_values[index] = value\n",
    "        list_values.append(value)\n",
    "    else:\n",
    "        null_count += 1\n",
    "        list_values.append(list_values[len(list_values)-1])\n",
    "   \n",
    "    df_index += 1\n",
    "    \n",
    "print(len(list_values), null_count)\n",
    "data_estimar['categoria_dos'] = np.array(list_values)\n",
    "data_estimar['categoria_dos'] = data_estimar['categoria_dos'].astype('category')"
   ]
  },
  {
   "cell_type": "code",
   "execution_count": 43,
   "metadata": {
    "collapsed": false
   },
   "outputs": [
    {
     "data": {
      "text/html": [
       "<div>\n",
       "<style scoped>\n",
       "    .dataframe tbody tr th:only-of-type {\n",
       "        vertical-align: middle;\n",
       "    }\n",
       "\n",
       "    .dataframe tbody tr th {\n",
       "        vertical-align: top;\n",
       "    }\n",
       "\n",
       "    .dataframe thead th {\n",
       "        text-align: right;\n",
       "    }\n",
       "</style>\n",
       "<table border=\"1\" class=\"dataframe\">\n",
       "  <thead>\n",
       "    <tr style=\"text-align: right;\">\n",
       "      <th></th>\n",
       "      <th>fecha</th>\n",
       "      <th>id</th>\n",
       "      <th>visitas</th>\n",
       "      <th>estado</th>\n",
       "      <th>precio</th>\n",
       "      <th>dia_atipico</th>\n",
       "      <th>campaña</th>\n",
       "      <th>antiguedad</th>\n",
       "      <th>categoria</th>\n",
       "    </tr>\n",
       "  </thead>\n",
       "  <tbody>\n",
       "    <tr>\n",
       "      <th>0</th>\n",
       "      <td>2016-10-01</td>\n",
       "      <td>21972</td>\n",
       "      <td>5</td>\n",
       "      <td>No Rotura</td>\n",
       "      <td>5.84</td>\n",
       "      <td>0</td>\n",
       "      <td>0</td>\n",
       "      <td>5150</td>\n",
       "      <td>C75</td>\n",
       "    </tr>\n",
       "    <tr>\n",
       "      <th>1</th>\n",
       "      <td>2016-10-02</td>\n",
       "      <td>21972</td>\n",
       "      <td>15</td>\n",
       "      <td>No Rotura</td>\n",
       "      <td>5.84</td>\n",
       "      <td>0</td>\n",
       "      <td>0</td>\n",
       "      <td>5150</td>\n",
       "      <td>C75</td>\n",
       "    </tr>\n",
       "    <tr>\n",
       "      <th>2</th>\n",
       "      <td>2016-10-03</td>\n",
       "      <td>21972</td>\n",
       "      <td>5</td>\n",
       "      <td>No Rotura</td>\n",
       "      <td>5.84</td>\n",
       "      <td>0</td>\n",
       "      <td>0</td>\n",
       "      <td>5150</td>\n",
       "      <td>C75</td>\n",
       "    </tr>\n",
       "    <tr>\n",
       "      <th>3</th>\n",
       "      <td>2016-10-04</td>\n",
       "      <td>21972</td>\n",
       "      <td>5</td>\n",
       "      <td>No Rotura</td>\n",
       "      <td>5.84</td>\n",
       "      <td>0</td>\n",
       "      <td>0</td>\n",
       "      <td>5150</td>\n",
       "      <td>C75</td>\n",
       "    </tr>\n",
       "    <tr>\n",
       "      <th>4</th>\n",
       "      <td>2016-10-05</td>\n",
       "      <td>21972</td>\n",
       "      <td>0</td>\n",
       "      <td>No Rotura</td>\n",
       "      <td>5.84</td>\n",
       "      <td>0</td>\n",
       "      <td>0</td>\n",
       "      <td>5150</td>\n",
       "      <td>C75</td>\n",
       "    </tr>\n",
       "    <tr>\n",
       "      <th>...</th>\n",
       "      <td>...</td>\n",
       "      <td>...</td>\n",
       "      <td>...</td>\n",
       "      <td>...</td>\n",
       "      <td>...</td>\n",
       "      <td>...</td>\n",
       "      <td>...</td>\n",
       "      <td>...</td>\n",
       "      <td>...</td>\n",
       "    </tr>\n",
       "    <tr>\n",
       "      <th>218258</th>\n",
       "      <td>2016-12-26</td>\n",
       "      <td>458660</td>\n",
       "      <td>1085</td>\n",
       "      <td>No Rotura</td>\n",
       "      <td>70.85</td>\n",
       "      <td>1</td>\n",
       "      <td>0</td>\n",
       "      <td>35</td>\n",
       "      <td>K340</td>\n",
       "    </tr>\n",
       "    <tr>\n",
       "      <th>218259</th>\n",
       "      <td>2016-12-27</td>\n",
       "      <td>458660</td>\n",
       "      <td>965</td>\n",
       "      <td>No Rotura</td>\n",
       "      <td>70.85</td>\n",
       "      <td>1</td>\n",
       "      <td>0</td>\n",
       "      <td>35</td>\n",
       "      <td>K340</td>\n",
       "    </tr>\n",
       "    <tr>\n",
       "      <th>218260</th>\n",
       "      <td>2016-12-28</td>\n",
       "      <td>458660</td>\n",
       "      <td>1005</td>\n",
       "      <td>No Rotura</td>\n",
       "      <td>70.85</td>\n",
       "      <td>1</td>\n",
       "      <td>0</td>\n",
       "      <td>35</td>\n",
       "      <td>K340</td>\n",
       "    </tr>\n",
       "    <tr>\n",
       "      <th>218261</th>\n",
       "      <td>2016-12-29</td>\n",
       "      <td>458660</td>\n",
       "      <td>745</td>\n",
       "      <td>No Rotura</td>\n",
       "      <td>70.85</td>\n",
       "      <td>1</td>\n",
       "      <td>0</td>\n",
       "      <td>35</td>\n",
       "      <td>K340</td>\n",
       "    </tr>\n",
       "    <tr>\n",
       "      <th>218262</th>\n",
       "      <td>2016-12-30</td>\n",
       "      <td>458660</td>\n",
       "      <td>1225</td>\n",
       "      <td>No Rotura</td>\n",
       "      <td>70.85</td>\n",
       "      <td>1</td>\n",
       "      <td>0</td>\n",
       "      <td>35</td>\n",
       "      <td>K340</td>\n",
       "    </tr>\n",
       "  </tbody>\n",
       "</table>\n",
       "<p>218263 rows × 9 columns</p>\n",
       "</div>"
      ],
      "text/plain": [
       "             fecha      id  visitas     estado  precio dia_atipico campaña  \\\n",
       "0       2016-10-01   21972        5  No Rotura    5.84           0       0   \n",
       "1       2016-10-02   21972       15  No Rotura    5.84           0       0   \n",
       "2       2016-10-03   21972        5  No Rotura    5.84           0       0   \n",
       "3       2016-10-04   21972        5  No Rotura    5.84           0       0   \n",
       "4       2016-10-05   21972        0  No Rotura    5.84           0       0   \n",
       "...            ...     ...      ...        ...     ...         ...     ...   \n",
       "218258  2016-12-26  458660     1085  No Rotura   70.85           1       0   \n",
       "218259  2016-12-27  458660      965  No Rotura   70.85           1       0   \n",
       "218260  2016-12-28  458660     1005  No Rotura   70.85           1       0   \n",
       "218261  2016-12-29  458660      745  No Rotura   70.85           1       0   \n",
       "218262  2016-12-30  458660     1225  No Rotura   70.85           1       0   \n",
       "\n",
       "        antiguedad categoria  \n",
       "0             5150       C75  \n",
       "1             5150       C75  \n",
       "2             5150       C75  \n",
       "3             5150       C75  \n",
       "4             5150       C75  \n",
       "...            ...       ...  \n",
       "218258          35      K340  \n",
       "218259          35      K340  \n",
       "218260          35      K340  \n",
       "218261          35      K340  \n",
       "218262          35      K340  \n",
       "\n",
       "[218263 rows x 9 columns]"
      ]
     },
     "execution_count": 43,
     "metadata": {},
     "output_type": "execute_result"
    }
   ],
   "source": [
    "# concatenamos las dos columnas \n",
    "data_estimar['categoria'] = data_estimar[\"categoria_uno\"].str.cat(data_estimar.categoria_dos, sep =\"\") \n",
    "data_estimar['categoria']\n",
    "data_estimar.drop(columns=['categoria_uno', 'categoria_dos'], inplace = True)\n",
    "data_estimar"
   ]
  },
  {
   "cell_type": "code",
   "execution_count": 44,
   "metadata": {
    "collapsed": true
   },
   "outputs": [],
   "source": [
    "data_estimar['dia_atipico'] = data_estimar['dia_atipico'].replace(['0', '1', '-1'], [\"Venta_Normal\", \"Venta_alta\", \"Venta_Baja\"])\n"
   ]
  },
  {
   "cell_type": "code",
   "execution_count": 45,
   "metadata": {
    "collapsed": true
   },
   "outputs": [],
   "source": [
    "df_estimar = data_estimar.loc[:, ~data_estimar.columns.isin(['fecha', 'id'])]\n",
    "num_attribs = ['visitas', 'precio', 'antiguedad']\n",
    "cat_attribs = ['estado', 'campaña', 'dia_atipico','categoria']"
   ]
  },
  {
   "cell_type": "code",
   "execution_count": 46,
   "metadata": {
    "collapsed": false
   },
   "outputs": [
    {
     "data": {
      "text/plain": [
       "fecha          0\n",
       "id             0\n",
       "visitas        0\n",
       "estado         0\n",
       "precio         0\n",
       "dia_atipico    0\n",
       "campaña        0\n",
       "antiguedad     0\n",
       "categoria      0\n",
       "dtype: int64"
      ]
     },
     "execution_count": 46,
     "metadata": {},
     "output_type": "execute_result"
    }
   ],
   "source": [
    "data_estimar.isnull().sum()"
   ]
  },
  {
   "cell_type": "code",
   "execution_count": 47,
   "metadata": {
    "collapsed": true
   },
   "outputs": [],
   "source": [
    "full_pipeline = ColumnTransformer([\n",
    "    (\"num\", Normalizer(), num_attribs),\n",
    "    (\"cat\", OneHotEncoder(), cat_attribs),])\n",
    "\n",
    "df_estimated = full_pipeline.fit_transform(df_estimar)"
   ]
  },
  {
   "cell_type": "code",
   "execution_count": 48,
   "metadata": {
    "collapsed": false
   },
   "outputs": [
    {
     "data": {
      "text/plain": [
       "array([[9.70872705e-04, 1.13397932e-03, 9.99998886e-01, ...,\n",
       "        0.00000000e+00, 0.00000000e+00, 0.00000000e+00],\n",
       "       [2.91260713e-03, 1.13397504e-03, 9.99995115e-01, ...,\n",
       "        0.00000000e+00, 0.00000000e+00, 0.00000000e+00],\n",
       "       [9.70872705e-04, 1.13397932e-03, 9.99998886e-01, ...,\n",
       "        0.00000000e+00, 0.00000000e+00, 0.00000000e+00],\n",
       "       ...,\n",
       "       [9.96922891e-01, 7.02805839e-02, 3.47187077e-02, ...,\n",
       "        0.00000000e+00, 0.00000000e+00, 0.00000000e+00],\n",
       "       [9.94421408e-01, 9.45701433e-02, 4.67177843e-02, ...,\n",
       "        0.00000000e+00, 0.00000000e+00, 0.00000000e+00],\n",
       "       [9.97925764e-01, 5.77167677e-02, 2.85121647e-02, ...,\n",
       "        0.00000000e+00, 0.00000000e+00, 0.00000000e+00]])"
      ]
     },
     "execution_count": 48,
     "metadata": {},
     "output_type": "execute_result"
    }
   ],
   "source": [
    "X_estimar = df_estimated.toarray()\n",
    "X_estimar"
   ]
  },
  {
   "cell_type": "code",
   "execution_count": 61,
   "metadata": {
    "collapsed": true
   },
   "outputs": [],
   "source": [
    "pca_estimar = PCA(n_components=20, random_state=42)\n",
    "X_estimar_pca = pca_estimar.fit_transform(X_estimar)"
   ]
  },
  {
   "cell_type": "code",
   "execution_count": 157,
   "metadata": {
    "collapsed": false
   },
   "outputs": [
    {
     "data": {
      "text/plain": [
       "(218263, 10)"
      ]
     },
     "execution_count": 157,
     "metadata": {},
     "output_type": "execute_result"
    }
   ],
   "source": [
    "X_estimar_pca."
   ]
  },
  {
   "cell_type": "code",
   "execution_count": 60,
   "metadata": {
    "collapsed": false
   },
   "outputs": [
    {
     "ename": "ValueError",
     "evalue": "Number of features of the model must match the input. Model n_features is 5 and input n_features is 20 ",
     "output_type": "error",
     "traceback": [
      "\u001b[1;31m---------------------------------------------------------------------------\u001b[0m",
      "\u001b[1;31mValueError\u001b[0m                                Traceback (most recent call last)",
      "\u001b[1;32m<ipython-input-60-bcbca0c7feb5>\u001b[0m in \u001b[0;36m<module>\u001b[1;34m\u001b[0m\n\u001b[1;32m----> 1\u001b[1;33m \u001b[0mpredictions\u001b[0m \u001b[1;33m=\u001b[0m \u001b[0mrf\u001b[0m\u001b[1;33m.\u001b[0m\u001b[0mpredict\u001b[0m\u001b[1;33m(\u001b[0m\u001b[0mX_estimar_pca\u001b[0m\u001b[1;33m)\u001b[0m\u001b[1;33m\u001b[0m\u001b[1;33m\u001b[0m\u001b[0m\n\u001b[0m",
      "\u001b[1;32m~\\anaconda3\\lib\\site-packages\\sklearn\\ensemble\\_forest.py\u001b[0m in \u001b[0;36mpredict\u001b[1;34m(self, X)\u001b[0m\n\u001b[0;32m    781\u001b[0m         \u001b[0mcheck_is_fitted\u001b[0m\u001b[1;33m(\u001b[0m\u001b[0mself\u001b[0m\u001b[1;33m)\u001b[0m\u001b[1;33m\u001b[0m\u001b[1;33m\u001b[0m\u001b[0m\n\u001b[0;32m    782\u001b[0m         \u001b[1;31m# Check data\u001b[0m\u001b[1;33m\u001b[0m\u001b[1;33m\u001b[0m\u001b[1;33m\u001b[0m\u001b[0m\n\u001b[1;32m--> 783\u001b[1;33m         \u001b[0mX\u001b[0m \u001b[1;33m=\u001b[0m \u001b[0mself\u001b[0m\u001b[1;33m.\u001b[0m\u001b[0m_validate_X_predict\u001b[0m\u001b[1;33m(\u001b[0m\u001b[0mX\u001b[0m\u001b[1;33m)\u001b[0m\u001b[1;33m\u001b[0m\u001b[1;33m\u001b[0m\u001b[0m\n\u001b[0m\u001b[0;32m    784\u001b[0m \u001b[1;33m\u001b[0m\u001b[0m\n\u001b[0;32m    785\u001b[0m         \u001b[1;31m# Assign chunk of trees to jobs\u001b[0m\u001b[1;33m\u001b[0m\u001b[1;33m\u001b[0m\u001b[1;33m\u001b[0m\u001b[0m\n",
      "\u001b[1;32m~\\anaconda3\\lib\\site-packages\\sklearn\\ensemble\\_forest.py\u001b[0m in \u001b[0;36m_validate_X_predict\u001b[1;34m(self, X)\u001b[0m\n\u001b[0;32m    419\u001b[0m         \u001b[0mcheck_is_fitted\u001b[0m\u001b[1;33m(\u001b[0m\u001b[0mself\u001b[0m\u001b[1;33m)\u001b[0m\u001b[1;33m\u001b[0m\u001b[1;33m\u001b[0m\u001b[0m\n\u001b[0;32m    420\u001b[0m \u001b[1;33m\u001b[0m\u001b[0m\n\u001b[1;32m--> 421\u001b[1;33m         \u001b[1;32mreturn\u001b[0m \u001b[0mself\u001b[0m\u001b[1;33m.\u001b[0m\u001b[0mestimators_\u001b[0m\u001b[1;33m[\u001b[0m\u001b[1;36m0\u001b[0m\u001b[1;33m]\u001b[0m\u001b[1;33m.\u001b[0m\u001b[0m_validate_X_predict\u001b[0m\u001b[1;33m(\u001b[0m\u001b[0mX\u001b[0m\u001b[1;33m,\u001b[0m \u001b[0mcheck_input\u001b[0m\u001b[1;33m=\u001b[0m\u001b[1;32mTrue\u001b[0m\u001b[1;33m)\u001b[0m\u001b[1;33m\u001b[0m\u001b[1;33m\u001b[0m\u001b[0m\n\u001b[0m\u001b[0;32m    422\u001b[0m \u001b[1;33m\u001b[0m\u001b[0m\n\u001b[0;32m    423\u001b[0m     \u001b[1;33m@\u001b[0m\u001b[0mproperty\u001b[0m\u001b[1;33m\u001b[0m\u001b[1;33m\u001b[0m\u001b[0m\n",
      "\u001b[1;32m~\\anaconda3\\lib\\site-packages\\sklearn\\tree\\_classes.py\u001b[0m in \u001b[0;36m_validate_X_predict\u001b[1;34m(self, X, check_input)\u001b[0m\n\u001b[0;32m    394\u001b[0m         \u001b[0mn_features\u001b[0m \u001b[1;33m=\u001b[0m \u001b[0mX\u001b[0m\u001b[1;33m.\u001b[0m\u001b[0mshape\u001b[0m\u001b[1;33m[\u001b[0m\u001b[1;36m1\u001b[0m\u001b[1;33m]\u001b[0m\u001b[1;33m\u001b[0m\u001b[1;33m\u001b[0m\u001b[0m\n\u001b[0;32m    395\u001b[0m         \u001b[1;32mif\u001b[0m \u001b[0mself\u001b[0m\u001b[1;33m.\u001b[0m\u001b[0mn_features_\u001b[0m \u001b[1;33m!=\u001b[0m \u001b[0mn_features\u001b[0m\u001b[1;33m:\u001b[0m\u001b[1;33m\u001b[0m\u001b[1;33m\u001b[0m\u001b[0m\n\u001b[1;32m--> 396\u001b[1;33m             raise ValueError(\"Number of features of the model must \"\n\u001b[0m\u001b[0;32m    397\u001b[0m                              \u001b[1;34m\"match the input. Model n_features is %s and \"\u001b[0m\u001b[1;33m\u001b[0m\u001b[1;33m\u001b[0m\u001b[0m\n\u001b[0;32m    398\u001b[0m                              \u001b[1;34m\"input n_features is %s \"\u001b[0m\u001b[1;33m\u001b[0m\u001b[1;33m\u001b[0m\u001b[0m\n",
      "\u001b[1;31mValueError\u001b[0m: Number of features of the model must match the input. Model n_features is 5 and input n_features is 20 "
     ]
    }
   ],
   "source": [
    "predictions = rf.predict(X_estimar_pca)"
   ]
  },
  {
   "cell_type": "code",
   "execution_count": 53,
   "metadata": {
    "collapsed": false
   },
   "outputs": [
    {
     "data": {
      "text/plain": [
       "0.7217377761906145"
      ]
     },
     "execution_count": 53,
     "metadata": {},
     "output_type": "execute_result"
    }
   ],
   "source": [
    "sum(pca_estimar.explained_variance_ratio_)"
   ]
  },
  {
   "cell_type": "code",
   "execution_count": 54,
   "metadata": {
    "collapsed": true
   },
   "outputs": [],
   "source": [
    "def transform(data):\n",
    "        \"\"\"\n",
    "        Take the dataframe and trate the 'fecha' attribute depending of the document.\n",
    "        If it is the 'Modelar' document, the variable will be equal to the content\n",
    "        before the first space.\n",
    "        If it it the 'Estimar' document, the variable will be transformed to the\n",
    "        original format\n",
    "\n",
    "        Original Format: 'DD/MM/AAAA' in (text format)\n",
    "\n",
    "\n",
    "        \"\"\"\n",
    "\n",
    "        temp = ''\n",
    "\n",
    "        \n",
    "        data['fecha'] = pd.to_datetime(data['fecha'],infer_datetime_format=True).apply(lambda x : x.strftime('%d/%m/%Y'))\n",
    "       \n",
    "\n",
    "\n",
    "        return data"
   ]
  },
  {
   "cell_type": "code",
   "execution_count": 55,
   "metadata": {
    "collapsed": false
   },
   "outputs": [
    {
     "data": {
      "text/html": [
       "<div>\n",
       "<style scoped>\n",
       "    .dataframe tbody tr th:only-of-type {\n",
       "        vertical-align: middle;\n",
       "    }\n",
       "\n",
       "    .dataframe tbody tr th {\n",
       "        vertical-align: top;\n",
       "    }\n",
       "\n",
       "    .dataframe thead th {\n",
       "        text-align: right;\n",
       "    }\n",
       "</style>\n",
       "<table border=\"1\" class=\"dataframe\">\n",
       "  <thead>\n",
       "    <tr style=\"text-align: right;\">\n",
       "      <th></th>\n",
       "      <th>fecha</th>\n",
       "      <th>id</th>\n",
       "      <th>visitas</th>\n",
       "      <th>estado</th>\n",
       "      <th>precio</th>\n",
       "      <th>dia_atipico</th>\n",
       "      <th>campaña</th>\n",
       "      <th>antiguedad</th>\n",
       "      <th>categoria</th>\n",
       "    </tr>\n",
       "  </thead>\n",
       "  <tbody>\n",
       "    <tr>\n",
       "      <th>0</th>\n",
       "      <td>2016-10-01</td>\n",
       "      <td>21972</td>\n",
       "      <td>5</td>\n",
       "      <td>No Rotura</td>\n",
       "      <td>5.84</td>\n",
       "      <td>Venta_Normal</td>\n",
       "      <td>0</td>\n",
       "      <td>5150</td>\n",
       "      <td>C75</td>\n",
       "    </tr>\n",
       "    <tr>\n",
       "      <th>1</th>\n",
       "      <td>2016-10-02</td>\n",
       "      <td>21972</td>\n",
       "      <td>15</td>\n",
       "      <td>No Rotura</td>\n",
       "      <td>5.84</td>\n",
       "      <td>Venta_Normal</td>\n",
       "      <td>0</td>\n",
       "      <td>5150</td>\n",
       "      <td>C75</td>\n",
       "    </tr>\n",
       "    <tr>\n",
       "      <th>2</th>\n",
       "      <td>2016-10-03</td>\n",
       "      <td>21972</td>\n",
       "      <td>5</td>\n",
       "      <td>No Rotura</td>\n",
       "      <td>5.84</td>\n",
       "      <td>Venta_Normal</td>\n",
       "      <td>0</td>\n",
       "      <td>5150</td>\n",
       "      <td>C75</td>\n",
       "    </tr>\n",
       "    <tr>\n",
       "      <th>3</th>\n",
       "      <td>2016-10-04</td>\n",
       "      <td>21972</td>\n",
       "      <td>5</td>\n",
       "      <td>No Rotura</td>\n",
       "      <td>5.84</td>\n",
       "      <td>Venta_Normal</td>\n",
       "      <td>0</td>\n",
       "      <td>5150</td>\n",
       "      <td>C75</td>\n",
       "    </tr>\n",
       "    <tr>\n",
       "      <th>4</th>\n",
       "      <td>2016-10-05</td>\n",
       "      <td>21972</td>\n",
       "      <td>0</td>\n",
       "      <td>No Rotura</td>\n",
       "      <td>5.84</td>\n",
       "      <td>Venta_Normal</td>\n",
       "      <td>0</td>\n",
       "      <td>5150</td>\n",
       "      <td>C75</td>\n",
       "    </tr>\n",
       "  </tbody>\n",
       "</table>\n",
       "</div>"
      ],
      "text/plain": [
       "        fecha     id  visitas     estado  precio   dia_atipico campaña  \\\n",
       "0  2016-10-01  21972        5  No Rotura    5.84  Venta_Normal       0   \n",
       "1  2016-10-02  21972       15  No Rotura    5.84  Venta_Normal       0   \n",
       "2  2016-10-03  21972        5  No Rotura    5.84  Venta_Normal       0   \n",
       "3  2016-10-04  21972        5  No Rotura    5.84  Venta_Normal       0   \n",
       "4  2016-10-05  21972        0  No Rotura    5.84  Venta_Normal       0   \n",
       "\n",
       "   antiguedad categoria  \n",
       "0        5150       C75  \n",
       "1        5150       C75  \n",
       "2        5150       C75  \n",
       "3        5150       C75  \n",
       "4        5150       C75  "
      ]
     },
     "execution_count": 55,
     "metadata": {},
     "output_type": "execute_result"
    }
   ],
   "source": [
    "data_estimar.head()"
   ]
  },
  {
   "cell_type": "code",
   "execution_count": 56,
   "metadata": {
    "collapsed": true
   },
   "outputs": [],
   "source": [
    "df_results = transform(data_estimar)"
   ]
  },
  {
   "cell_type": "code",
   "execution_count": 57,
   "metadata": {
    "collapsed": false
   },
   "outputs": [
    {
     "data": {
      "text/html": [
       "<div>\n",
       "<style scoped>\n",
       "    .dataframe tbody tr th:only-of-type {\n",
       "        vertical-align: middle;\n",
       "    }\n",
       "\n",
       "    .dataframe tbody tr th {\n",
       "        vertical-align: top;\n",
       "    }\n",
       "\n",
       "    .dataframe thead th {\n",
       "        text-align: right;\n",
       "    }\n",
       "</style>\n",
       "<table border=\"1\" class=\"dataframe\">\n",
       "  <thead>\n",
       "    <tr style=\"text-align: right;\">\n",
       "      <th></th>\n",
       "      <th>fecha</th>\n",
       "      <th>id</th>\n",
       "      <th>visitas</th>\n",
       "      <th>estado</th>\n",
       "      <th>precio</th>\n",
       "      <th>dia_atipico</th>\n",
       "      <th>campaña</th>\n",
       "      <th>antiguedad</th>\n",
       "      <th>categoria</th>\n",
       "    </tr>\n",
       "  </thead>\n",
       "  <tbody>\n",
       "    <tr>\n",
       "      <th>0</th>\n",
       "      <td>01/10/2016</td>\n",
       "      <td>21972</td>\n",
       "      <td>5</td>\n",
       "      <td>No Rotura</td>\n",
       "      <td>5.84</td>\n",
       "      <td>Venta_Normal</td>\n",
       "      <td>0</td>\n",
       "      <td>5150</td>\n",
       "      <td>C75</td>\n",
       "    </tr>\n",
       "    <tr>\n",
       "      <th>1</th>\n",
       "      <td>02/10/2016</td>\n",
       "      <td>21972</td>\n",
       "      <td>15</td>\n",
       "      <td>No Rotura</td>\n",
       "      <td>5.84</td>\n",
       "      <td>Venta_Normal</td>\n",
       "      <td>0</td>\n",
       "      <td>5150</td>\n",
       "      <td>C75</td>\n",
       "    </tr>\n",
       "    <tr>\n",
       "      <th>2</th>\n",
       "      <td>03/10/2016</td>\n",
       "      <td>21972</td>\n",
       "      <td>5</td>\n",
       "      <td>No Rotura</td>\n",
       "      <td>5.84</td>\n",
       "      <td>Venta_Normal</td>\n",
       "      <td>0</td>\n",
       "      <td>5150</td>\n",
       "      <td>C75</td>\n",
       "    </tr>\n",
       "    <tr>\n",
       "      <th>3</th>\n",
       "      <td>04/10/2016</td>\n",
       "      <td>21972</td>\n",
       "      <td>5</td>\n",
       "      <td>No Rotura</td>\n",
       "      <td>5.84</td>\n",
       "      <td>Venta_Normal</td>\n",
       "      <td>0</td>\n",
       "      <td>5150</td>\n",
       "      <td>C75</td>\n",
       "    </tr>\n",
       "    <tr>\n",
       "      <th>4</th>\n",
       "      <td>05/10/2016</td>\n",
       "      <td>21972</td>\n",
       "      <td>0</td>\n",
       "      <td>No Rotura</td>\n",
       "      <td>5.84</td>\n",
       "      <td>Venta_Normal</td>\n",
       "      <td>0</td>\n",
       "      <td>5150</td>\n",
       "      <td>C75</td>\n",
       "    </tr>\n",
       "    <tr>\n",
       "      <th>...</th>\n",
       "      <td>...</td>\n",
       "      <td>...</td>\n",
       "      <td>...</td>\n",
       "      <td>...</td>\n",
       "      <td>...</td>\n",
       "      <td>...</td>\n",
       "      <td>...</td>\n",
       "      <td>...</td>\n",
       "      <td>...</td>\n",
       "    </tr>\n",
       "    <tr>\n",
       "      <th>218258</th>\n",
       "      <td>26/12/2016</td>\n",
       "      <td>458660</td>\n",
       "      <td>1085</td>\n",
       "      <td>No Rotura</td>\n",
       "      <td>70.85</td>\n",
       "      <td>Venta_alta</td>\n",
       "      <td>0</td>\n",
       "      <td>35</td>\n",
       "      <td>K340</td>\n",
       "    </tr>\n",
       "    <tr>\n",
       "      <th>218259</th>\n",
       "      <td>27/12/2016</td>\n",
       "      <td>458660</td>\n",
       "      <td>965</td>\n",
       "      <td>No Rotura</td>\n",
       "      <td>70.85</td>\n",
       "      <td>Venta_alta</td>\n",
       "      <td>0</td>\n",
       "      <td>35</td>\n",
       "      <td>K340</td>\n",
       "    </tr>\n",
       "    <tr>\n",
       "      <th>218260</th>\n",
       "      <td>28/12/2016</td>\n",
       "      <td>458660</td>\n",
       "      <td>1005</td>\n",
       "      <td>No Rotura</td>\n",
       "      <td>70.85</td>\n",
       "      <td>Venta_alta</td>\n",
       "      <td>0</td>\n",
       "      <td>35</td>\n",
       "      <td>K340</td>\n",
       "    </tr>\n",
       "    <tr>\n",
       "      <th>218261</th>\n",
       "      <td>29/12/2016</td>\n",
       "      <td>458660</td>\n",
       "      <td>745</td>\n",
       "      <td>No Rotura</td>\n",
       "      <td>70.85</td>\n",
       "      <td>Venta_alta</td>\n",
       "      <td>0</td>\n",
       "      <td>35</td>\n",
       "      <td>K340</td>\n",
       "    </tr>\n",
       "    <tr>\n",
       "      <th>218262</th>\n",
       "      <td>30/12/2016</td>\n",
       "      <td>458660</td>\n",
       "      <td>1225</td>\n",
       "      <td>No Rotura</td>\n",
       "      <td>70.85</td>\n",
       "      <td>Venta_alta</td>\n",
       "      <td>0</td>\n",
       "      <td>35</td>\n",
       "      <td>K340</td>\n",
       "    </tr>\n",
       "  </tbody>\n",
       "</table>\n",
       "<p>218263 rows × 9 columns</p>\n",
       "</div>"
      ],
      "text/plain": [
       "             fecha      id  visitas     estado  precio   dia_atipico campaña  \\\n",
       "0       01/10/2016   21972        5  No Rotura    5.84  Venta_Normal       0   \n",
       "1       02/10/2016   21972       15  No Rotura    5.84  Venta_Normal       0   \n",
       "2       03/10/2016   21972        5  No Rotura    5.84  Venta_Normal       0   \n",
       "3       04/10/2016   21972        5  No Rotura    5.84  Venta_Normal       0   \n",
       "4       05/10/2016   21972        0  No Rotura    5.84  Venta_Normal       0   \n",
       "...            ...     ...      ...        ...     ...           ...     ...   \n",
       "218258  26/12/2016  458660     1085  No Rotura   70.85    Venta_alta       0   \n",
       "218259  27/12/2016  458660      965  No Rotura   70.85    Venta_alta       0   \n",
       "218260  28/12/2016  458660     1005  No Rotura   70.85    Venta_alta       0   \n",
       "218261  29/12/2016  458660      745  No Rotura   70.85    Venta_alta       0   \n",
       "218262  30/12/2016  458660     1225  No Rotura   70.85    Venta_alta       0   \n",
       "\n",
       "        antiguedad categoria  \n",
       "0             5150       C75  \n",
       "1             5150       C75  \n",
       "2             5150       C75  \n",
       "3             5150       C75  \n",
       "4             5150       C75  \n",
       "...            ...       ...  \n",
       "218258          35      K340  \n",
       "218259          35      K340  \n",
       "218260          35      K340  \n",
       "218261          35      K340  \n",
       "218262          35      K340  \n",
       "\n",
       "[218263 rows x 9 columns]"
      ]
     },
     "execution_count": 57,
     "metadata": {},
     "output_type": "execute_result"
    }
   ],
   "source": [
    "df_results"
   ]
  },
  {
   "cell_type": "code",
   "execution_count": 59,
   "metadata": {
    "collapsed": false
   },
   "outputs": [
    {
     "ename": "ValueError",
     "evalue": "Length of values does not match length of index",
     "output_type": "error",
     "traceback": [
      "\u001b[1;31m---------------------------------------------------------------------------\u001b[0m",
      "\u001b[1;31mValueError\u001b[0m                                Traceback (most recent call last)",
      "\u001b[1;32m<ipython-input-59-e2bc9bc55dbb>\u001b[0m in \u001b[0;36m<module>\u001b[1;34m\u001b[0m\n\u001b[1;32m----> 1\u001b[1;33m \u001b[0mdf_results\u001b[0m\u001b[1;33m[\u001b[0m\u001b[1;34m\"UNIDADES\"\u001b[0m\u001b[1;33m]\u001b[0m \u001b[1;33m=\u001b[0m \u001b[0mpredictions\u001b[0m\u001b[1;33m\u001b[0m\u001b[1;33m\u001b[0m\u001b[0m\n\u001b[0m\u001b[0;32m      2\u001b[0m \u001b[0mdf_results\u001b[0m\u001b[1;33m[\u001b[0m\u001b[1;34m\"FECHA\"\u001b[0m\u001b[1;33m]\u001b[0m \u001b[1;33m=\u001b[0m \u001b[0mdf_results\u001b[0m\u001b[1;33m[\u001b[0m\u001b[1;34m'fecha'\u001b[0m\u001b[1;33m]\u001b[0m\u001b[1;33m\u001b[0m\u001b[1;33m\u001b[0m\u001b[0m\n\u001b[0;32m      3\u001b[0m \u001b[0mdf_results\u001b[0m\u001b[1;33m[\u001b[0m\u001b[1;34m\"ID\"\u001b[0m\u001b[1;33m]\u001b[0m \u001b[1;33m=\u001b[0m \u001b[0mdf_results\u001b[0m\u001b[1;33m[\u001b[0m\u001b[1;34m'id'\u001b[0m\u001b[1;33m]\u001b[0m\u001b[1;33m\u001b[0m\u001b[1;33m\u001b[0m\u001b[0m\n",
      "\u001b[1;32m~\\anaconda3\\lib\\site-packages\\pandas\\core\\frame.py\u001b[0m in \u001b[0;36m__setitem__\u001b[1;34m(self, key, value)\u001b[0m\n\u001b[0;32m   2936\u001b[0m         \u001b[1;32melse\u001b[0m\u001b[1;33m:\u001b[0m\u001b[1;33m\u001b[0m\u001b[1;33m\u001b[0m\u001b[0m\n\u001b[0;32m   2937\u001b[0m             \u001b[1;31m# set column\u001b[0m\u001b[1;33m\u001b[0m\u001b[1;33m\u001b[0m\u001b[1;33m\u001b[0m\u001b[0m\n\u001b[1;32m-> 2938\u001b[1;33m             \u001b[0mself\u001b[0m\u001b[1;33m.\u001b[0m\u001b[0m_set_item\u001b[0m\u001b[1;33m(\u001b[0m\u001b[0mkey\u001b[0m\u001b[1;33m,\u001b[0m \u001b[0mvalue\u001b[0m\u001b[1;33m)\u001b[0m\u001b[1;33m\u001b[0m\u001b[1;33m\u001b[0m\u001b[0m\n\u001b[0m\u001b[0;32m   2939\u001b[0m \u001b[1;33m\u001b[0m\u001b[0m\n\u001b[0;32m   2940\u001b[0m     \u001b[1;32mdef\u001b[0m \u001b[0m_setitem_slice\u001b[0m\u001b[1;33m(\u001b[0m\u001b[0mself\u001b[0m\u001b[1;33m,\u001b[0m \u001b[0mkey\u001b[0m\u001b[1;33m,\u001b[0m \u001b[0mvalue\u001b[0m\u001b[1;33m)\u001b[0m\u001b[1;33m:\u001b[0m\u001b[1;33m\u001b[0m\u001b[1;33m\u001b[0m\u001b[0m\n",
      "\u001b[1;32m~\\anaconda3\\lib\\site-packages\\pandas\\core\\frame.py\u001b[0m in \u001b[0;36m_set_item\u001b[1;34m(self, key, value)\u001b[0m\n\u001b[0;32m   2998\u001b[0m \u001b[1;33m\u001b[0m\u001b[0m\n\u001b[0;32m   2999\u001b[0m         \u001b[0mself\u001b[0m\u001b[1;33m.\u001b[0m\u001b[0m_ensure_valid_index\u001b[0m\u001b[1;33m(\u001b[0m\u001b[0mvalue\u001b[0m\u001b[1;33m)\u001b[0m\u001b[1;33m\u001b[0m\u001b[1;33m\u001b[0m\u001b[0m\n\u001b[1;32m-> 3000\u001b[1;33m         \u001b[0mvalue\u001b[0m \u001b[1;33m=\u001b[0m \u001b[0mself\u001b[0m\u001b[1;33m.\u001b[0m\u001b[0m_sanitize_column\u001b[0m\u001b[1;33m(\u001b[0m\u001b[0mkey\u001b[0m\u001b[1;33m,\u001b[0m \u001b[0mvalue\u001b[0m\u001b[1;33m)\u001b[0m\u001b[1;33m\u001b[0m\u001b[1;33m\u001b[0m\u001b[0m\n\u001b[0m\u001b[0;32m   3001\u001b[0m         \u001b[0mNDFrame\u001b[0m\u001b[1;33m.\u001b[0m\u001b[0m_set_item\u001b[0m\u001b[1;33m(\u001b[0m\u001b[0mself\u001b[0m\u001b[1;33m,\u001b[0m \u001b[0mkey\u001b[0m\u001b[1;33m,\u001b[0m \u001b[0mvalue\u001b[0m\u001b[1;33m)\u001b[0m\u001b[1;33m\u001b[0m\u001b[1;33m\u001b[0m\u001b[0m\n\u001b[0;32m   3002\u001b[0m \u001b[1;33m\u001b[0m\u001b[0m\n",
      "\u001b[1;32m~\\anaconda3\\lib\\site-packages\\pandas\\core\\frame.py\u001b[0m in \u001b[0;36m_sanitize_column\u001b[1;34m(self, key, value, broadcast)\u001b[0m\n\u001b[0;32m   3634\u001b[0m \u001b[1;33m\u001b[0m\u001b[0m\n\u001b[0;32m   3635\u001b[0m             \u001b[1;31m# turn me into an ndarray\u001b[0m\u001b[1;33m\u001b[0m\u001b[1;33m\u001b[0m\u001b[1;33m\u001b[0m\u001b[0m\n\u001b[1;32m-> 3636\u001b[1;33m             \u001b[0mvalue\u001b[0m \u001b[1;33m=\u001b[0m \u001b[0msanitize_index\u001b[0m\u001b[1;33m(\u001b[0m\u001b[0mvalue\u001b[0m\u001b[1;33m,\u001b[0m \u001b[0mself\u001b[0m\u001b[1;33m.\u001b[0m\u001b[0mindex\u001b[0m\u001b[1;33m,\u001b[0m \u001b[0mcopy\u001b[0m\u001b[1;33m=\u001b[0m\u001b[1;32mFalse\u001b[0m\u001b[1;33m)\u001b[0m\u001b[1;33m\u001b[0m\u001b[1;33m\u001b[0m\u001b[0m\n\u001b[0m\u001b[0;32m   3637\u001b[0m             \u001b[1;32mif\u001b[0m \u001b[1;32mnot\u001b[0m \u001b[0misinstance\u001b[0m\u001b[1;33m(\u001b[0m\u001b[0mvalue\u001b[0m\u001b[1;33m,\u001b[0m \u001b[1;33m(\u001b[0m\u001b[0mnp\u001b[0m\u001b[1;33m.\u001b[0m\u001b[0mndarray\u001b[0m\u001b[1;33m,\u001b[0m \u001b[0mIndex\u001b[0m\u001b[1;33m)\u001b[0m\u001b[1;33m)\u001b[0m\u001b[1;33m:\u001b[0m\u001b[1;33m\u001b[0m\u001b[1;33m\u001b[0m\u001b[0m\n\u001b[0;32m   3638\u001b[0m                 \u001b[1;32mif\u001b[0m \u001b[0misinstance\u001b[0m\u001b[1;33m(\u001b[0m\u001b[0mvalue\u001b[0m\u001b[1;33m,\u001b[0m \u001b[0mlist\u001b[0m\u001b[1;33m)\u001b[0m \u001b[1;32mand\u001b[0m \u001b[0mlen\u001b[0m\u001b[1;33m(\u001b[0m\u001b[0mvalue\u001b[0m\u001b[1;33m)\u001b[0m \u001b[1;33m>\u001b[0m \u001b[1;36m0\u001b[0m\u001b[1;33m:\u001b[0m\u001b[1;33m\u001b[0m\u001b[1;33m\u001b[0m\u001b[0m\n",
      "\u001b[1;32m~\\anaconda3\\lib\\site-packages\\pandas\\core\\internals\\construction.py\u001b[0m in \u001b[0;36msanitize_index\u001b[1;34m(data, index, copy)\u001b[0m\n\u001b[0;32m    609\u001b[0m \u001b[1;33m\u001b[0m\u001b[0m\n\u001b[0;32m    610\u001b[0m     \u001b[1;32mif\u001b[0m \u001b[0mlen\u001b[0m\u001b[1;33m(\u001b[0m\u001b[0mdata\u001b[0m\u001b[1;33m)\u001b[0m \u001b[1;33m!=\u001b[0m \u001b[0mlen\u001b[0m\u001b[1;33m(\u001b[0m\u001b[0mindex\u001b[0m\u001b[1;33m)\u001b[0m\u001b[1;33m:\u001b[0m\u001b[1;33m\u001b[0m\u001b[1;33m\u001b[0m\u001b[0m\n\u001b[1;32m--> 611\u001b[1;33m         \u001b[1;32mraise\u001b[0m \u001b[0mValueError\u001b[0m\u001b[1;33m(\u001b[0m\u001b[1;34m\"Length of values does not match length of index\"\u001b[0m\u001b[1;33m)\u001b[0m\u001b[1;33m\u001b[0m\u001b[1;33m\u001b[0m\u001b[0m\n\u001b[0m\u001b[0;32m    612\u001b[0m \u001b[1;33m\u001b[0m\u001b[0m\n\u001b[0;32m    613\u001b[0m     \u001b[1;32mif\u001b[0m \u001b[0misinstance\u001b[0m\u001b[1;33m(\u001b[0m\u001b[0mdata\u001b[0m\u001b[1;33m,\u001b[0m \u001b[0mABCIndexClass\u001b[0m\u001b[1;33m)\u001b[0m \u001b[1;32mand\u001b[0m \u001b[1;32mnot\u001b[0m \u001b[0mcopy\u001b[0m\u001b[1;33m:\u001b[0m\u001b[1;33m\u001b[0m\u001b[1;33m\u001b[0m\u001b[0m\n",
      "\u001b[1;31mValueError\u001b[0m: Length of values does not match length of index"
     ]
    }
   ],
   "source": [
    "df_results[\"UNIDADES\"] = predictions\n",
    "df_results[\"FECHA\"] = df_results['fecha']\n",
    "df_results[\"ID\"] = df_results['id']"
   ]
  },
  {
   "cell_type": "code",
   "execution_count": 185,
   "metadata": {
    "collapsed": true
   },
   "outputs": [],
   "source": [
    "df_results = df_results[[\"FECHA\", \"ID\", \"UNIDADES\"]]"
   ]
  },
  {
   "cell_type": "code",
   "execution_count": 186,
   "metadata": {
    "collapsed": false
   },
   "outputs": [
    {
     "data": {
      "text/html": [
       "<div>\n",
       "<style scoped>\n",
       "    .dataframe tbody tr th:only-of-type {\n",
       "        vertical-align: middle;\n",
       "    }\n",
       "\n",
       "    .dataframe tbody tr th {\n",
       "        vertical-align: top;\n",
       "    }\n",
       "\n",
       "    .dataframe thead th {\n",
       "        text-align: right;\n",
       "    }\n",
       "</style>\n",
       "<table border=\"1\" class=\"dataframe\">\n",
       "  <thead>\n",
       "    <tr style=\"text-align: right;\">\n",
       "      <th></th>\n",
       "      <th>FECHA</th>\n",
       "      <th>ID</th>\n",
       "      <th>UNIDADES</th>\n",
       "    </tr>\n",
       "  </thead>\n",
       "  <tbody>\n",
       "    <tr>\n",
       "      <th>0</th>\n",
       "      <td>10/01/2016</td>\n",
       "      <td>21972</td>\n",
       "      <td>475.1</td>\n",
       "    </tr>\n",
       "    <tr>\n",
       "      <th>1</th>\n",
       "      <td>10/02/2016</td>\n",
       "      <td>21972</td>\n",
       "      <td>475.1</td>\n",
       "    </tr>\n",
       "    <tr>\n",
       "      <th>2</th>\n",
       "      <td>10/03/2016</td>\n",
       "      <td>21972</td>\n",
       "      <td>475.1</td>\n",
       "    </tr>\n",
       "    <tr>\n",
       "      <th>3</th>\n",
       "      <td>10/04/2016</td>\n",
       "      <td>21972</td>\n",
       "      <td>475.1</td>\n",
       "    </tr>\n",
       "    <tr>\n",
       "      <th>4</th>\n",
       "      <td>10/05/2016</td>\n",
       "      <td>21972</td>\n",
       "      <td>475.1</td>\n",
       "    </tr>\n",
       "  </tbody>\n",
       "</table>\n",
       "</div>"
      ],
      "text/plain": [
       "        FECHA     ID  UNIDADES\n",
       "0  10/01/2016  21972     475.1\n",
       "1  10/02/2016  21972     475.1\n",
       "2  10/03/2016  21972     475.1\n",
       "3  10/04/2016  21972     475.1\n",
       "4  10/05/2016  21972     475.1"
      ]
     },
     "execution_count": 186,
     "metadata": {},
     "output_type": "execute_result"
    }
   ],
   "source": [
    "df_results.head()"
   ]
  },
  {
   "cell_type": "code",
   "execution_count": 187,
   "metadata": {
    "collapsed": true
   },
   "outputs": [],
   "source": [
    "# Save the results\n",
    "df_results.to_csv(r'Atmira_Universitat Oberta de Catalunya_UOC Data Miners_numeral.txt', index=None, sep='|', mode='a')"
   ]
  },
  {
   "cell_type": "code",
   "execution_count": 188,
   "metadata": {
    "collapsed": false
   },
   "outputs": [
    {
     "data": {
      "text/plain": [
       "(218263, 3)"
      ]
     },
     "execution_count": 188,
     "metadata": {},
     "output_type": "execute_result"
    }
   ],
   "source": [
    "df_results.shape"
   ]
  }
 ],
 "metadata": {
  "anaconda-cloud": {},
  "kernelspec": {
   "display_name": "Python [default]",
   "language": "python",
   "name": "python3"
  },
  "language_info": {
   "codemirror_mode": {
    "name": "ipython",
    "version": 3
   },
   "file_extension": ".py",
   "mimetype": "text/x-python",
   "name": "python",
   "nbconvert_exporter": "python",
   "pygments_lexer": "ipython3",
   "version": "3.5.6"
  },
  "toc": {
   "base_numbering": 1,
   "nav_menu": {},
   "number_sections": true,
   "sideBar": true,
   "skip_h1_title": false,
   "title_cell": "Table of Contents",
   "title_sidebar": "Contents",
   "toc_cell": false,
   "toc_position": {
    "height": "calc(100% - 180px)",
    "left": "10px",
    "top": "150px",
    "width": "349.078px"
   },
   "toc_section_display": true,
   "toc_window_display": true
  }
 },
 "nbformat": 4,
 "nbformat_minor": 4
}
